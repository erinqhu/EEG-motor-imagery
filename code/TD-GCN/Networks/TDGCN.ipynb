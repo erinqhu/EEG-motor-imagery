{
  "nbformat": 4,
  "nbformat_minor": 0,
  "metadata": {
    "colab": {
      "name": "GCN3",
      "provenance": [],
      "collapsed_sections": []
    },
    "kernelspec": {
      "name": "python3",
      "display_name": "Python 3"
    },
    "language_info": {
      "name": "python"
    },
    "accelerator": "GPU"
  },
  "cells": [
    {
      "cell_type": "markdown",
      "metadata": {
        "id": "cSc6UXJKlVUj"
      },
      "source": [
        ""
      ]
    },
    {
      "cell_type": "code",
      "metadata": {
        "id": "SNUpLot71oX3",
        "colab": {
          "base_uri": "https://localhost:8080/"
        },
        "outputId": "d2a30cf1-2b4e-4d54-ab13-067f98f298eb"
      },
      "source": [
        "%tensorflow_version 1.x\n",
        "import tensorflow as tf\n",
        "print(tf.__version__)"
      ],
      "execution_count": 2,
      "outputs": [
        {
          "output_type": "stream",
          "text": [
            "1.15.2\n"
          ],
          "name": "stdout"
        }
      ]
    },
    {
      "cell_type": "code",
      "metadata": {
        "id": "fmhx0LPeQkSl",
        "colab": {
          "base_uri": "https://localhost:8080/"
        },
        "outputId": "6218810d-8344-4047-8eec-428d6acf6723"
      },
      "source": [
        "from google.colab import drive\n",
        "drive.mount('/content/drive')"
      ],
      "execution_count": 3,
      "outputs": [
        {
          "output_type": "stream",
          "text": [
            "Mounted at /content/drive\n"
          ],
          "name": "stdout"
        }
      ]
    },
    {
      "cell_type": "code",
      "metadata": {
        "id": "IqpF2kSHiAsH"
      },
      "source": [
        "import os\n",
        "os.chdir('..')"
      ],
      "execution_count": 4,
      "outputs": []
    },
    {
      "cell_type": "code",
      "metadata": {
        "colab": {
          "base_uri": "https://localhost:8080/"
        },
        "id": "1GdsprtHhtvY",
        "outputId": "c319be42-8cc4-4aa3-b2ec-3a517d7c7143"
      },
      "source": [
        "% cd '/content/drive/MyDrive/NYU/Project/GCN/Starting/Notebooks'\n"
      ],
      "execution_count": 7,
      "outputs": [
        {
          "output_type": "stream",
          "text": [
            "/content/drive/MyDrive/NYU/Project/GCN/Starting/Notebooks\n"
          ],
          "name": "stdout"
        }
      ]
    },
    {
      "cell_type": "markdown",
      "metadata": {
        "id": "uMz0VJoZuOvT"
      },
      "source": [
        "* Install the GCN libraries by Defferard.\n",
        "* These were used by Jia et al. as a template to write their code.\n"
      ]
    },
    {
      "cell_type": "code",
      "metadata": {
        "id": "AGr5d38D17wY"
      },
      "source": [
        "from Lib import GCN_Model, graph, coarsening"
      ],
      "execution_count": 8,
      "outputs": []
    },
    {
      "cell_type": "code",
      "metadata": {
        "id": "sg05xfn-wGyk"
      },
      "source": [
        "import numpy as np\n",
        "import matplotlib.pyplot as plt\n",
        "import pandas as pd\n",
        "from scipy import sparse\n",
        "device = 'cuda:0'\n",
        "%matplotlib inline"
      ],
      "execution_count": 9,
      "outputs": []
    },
    {
      "cell_type": "code",
      "metadata": {
        "id": "1pUKQqzPWw2z"
      },
      "source": [
        "# Clear all the stack and use GPU resources as much as possible\n",
        "tf.reset_default_graph()\n",
        "config = tf.ConfigProto()\n",
        "config.gpu_options.allow_growth = True\n",
        "sess = tf.Session(config=config)"
      ],
      "execution_count": 10,
      "outputs": []
    },
    {
      "cell_type": "code",
      "metadata": {
        "id": "JycppGeOQsfM"
      },
      "source": [
        "train_data = pd.read_csv ('/content/drive/MyDrive/NYU/Project/GCN/Starting/Imaginary Data/CSV Files/All Electrodes/training_set.csv', header=None)\n",
        "train_labels = pd.read_csv ('/content/drive/MyDrive/NYU/Project/GCN/Starting/Imaginary Data/CSV Files/All Electrodes/training_label.csv', header=None)\n",
        "val_data = pd.read_csv ('/content/drive/MyDrive/NYU/Project/GCN/Starting/Imaginary Data/CSV Files/All Electrodes/val_set.csv', header=None)\n",
        "val_labels = pd.read_csv ('/content/drive/MyDrive/NYU/Project/GCN/Starting/Imaginary Data/CSV Files/All Electrodes/val_label.csv', header=None)\n",
        "test_data = pd.read_csv ('/content/drive/MyDrive/NYU/Project/GCN/Starting/Imaginary Data/CSV Files/All Electrodes/test_set.csv', header=None)\n",
        "test_labels = pd.read_csv ('/content/drive/MyDrive/NYU/Project/GCN/Starting/Imaginary Data/CSV Files/All Electrodes/test_label.csv', header=None)"
      ],
      "execution_count": 11,
      "outputs": []
    },
    {
      "cell_type": "code",
      "metadata": {
        "id": "CSWJHW1XSaAM"
      },
      "source": [
        "train_data = train_data.to_numpy()\n",
        "train_data = train_data.astype('float32')\n",
        "train_labels = train_labels.to_numpy()\n",
        "train_labels = train_labels.astype('int32')\n",
        "val_data = val_data.to_numpy()\n",
        "val_data = val_data.astype('float32')\n",
        "val_labels = val_labels.to_numpy()\n",
        "val_labels = val_labels.astype('int32')\n",
        "test_data = test_data.to_numpy()\n",
        "test_data = test_data.astype('float32')\n",
        "test_labels = test_labels.to_numpy()\n",
        "test_labels = test_labels.astype('int32')\n",
        "train_labels=train_labels.reshape(430080,)\n",
        "val_labels= val_labels.reshape(53760,)\n",
        "test_labels= test_labels.reshape(53760,)\n"
      ],
      "execution_count": null,
      "outputs": []
    },
    {
      "cell_type": "code",
      "metadata": {
        "colab": {
          "base_uri": "https://localhost:8080/"
        },
        "id": "3vv23K69Q6wE",
        "outputId": "3403e1d6-3921-44ef-c74c-945e0d0dc05c"
      },
      "source": [
        "print(train_data.shape)\n",
        "print(train_labels.shape)\n",
        "print(val_data.shape)\n",
        "print(val_labels.shape)"
      ],
      "execution_count": 16,
      "outputs": [
        {
          "output_type": "stream",
          "text": [
            "(430080, 64)\n",
            "(430080,)\n",
            "(53760, 64)\n",
            "(53760,)\n"
          ],
          "name": "stdout"
        }
      ]
    },
    {
      "cell_type": "code",
      "metadata": {
        "colab": {
          "base_uri": "https://localhost:8080/"
        },
        "id": "mJY9nB0LTiis",
        "outputId": "98d72d8e-560d-4f1f-f615-f4848fb9e25f"
      },
      "source": [
        "type(train_data)"
      ],
      "execution_count": 17,
      "outputs": [
        {
          "output_type": "execute_result",
          "data": {
            "text/plain": [
              "numpy.ndarray"
            ]
          },
          "metadata": {
            "tags": []
          },
          "execution_count": 17
        }
      ]
    },
    {
      "cell_type": "code",
      "metadata": {
        "colab": {
          "base_uri": "https://localhost:8080/"
        },
        "id": "7M-rmywiQ-H8",
        "outputId": "c8d8bb77-73e9-4324-b008-6ebed8a1fe83"
      },
      "source": [
        "Adjacency_Matrix = pd.read_csv ('/content/drive/MyDrive/NYU/Project/GCN/Starting/Imaginary Data/CSV Files/All Electrodes/Adjacency_Matrix.csv', header=None,float_precision=32)\n",
        "Adjacency_Matrix = Adjacency_Matrix.to_numpy()\n",
        "Adjacency_Matrix = Adjacency_Matrix.astype('float32')\n",
        "Adjacency_Matrix = sparse.csr_matrix(Adjacency_Matrix)\n",
        "\n",
        "print('==============> Adjancy matrix read!')\n",
        "print(Adjacency_Matrix.shape)"
      ],
      "execution_count": 18,
      "outputs": [
        {
          "output_type": "stream",
          "text": [
            "==============> Adjancy matrix read!\n",
            "(64, 64)\n"
          ],
          "name": "stdout"
        }
      ]
    },
    {
      "cell_type": "code",
      "metadata": {
        "colab": {
          "base_uri": "https://localhost:8080/"
        },
        "id": "w78YQBZYwyoT",
        "outputId": "d863cd18-ceb7-45d7-ff8f-663b0f730abb"
      },
      "source": [
        "graphs, perm = coarsening.coarsen(Adjacency_Matrix, levels=5, self_connections=False)\n"
      ],
      "execution_count": 19,
      "outputs": [
        {
          "output_type": "stream",
          "text": [
            "Layer 0: M_0 = |V| = 64 nodes (0 added),|E| = 2016 edges\n",
            "Layer 1: M_1 = |V| = 32 nodes (0 added),|E| = 496 edges\n",
            "Layer 2: M_2 = |V| = 16 nodes (0 added),|E| = 120 edges\n",
            "Layer 3: M_3 = |V| = 8 nodes (0 added),|E| = 28 edges\n",
            "Layer 4: M_4 = |V| = 4 nodes (0 added),|E| = 6 edges\n",
            "Layer 5: M_5 = |V| = 2 nodes (0 added),|E| = 1 edges\n"
          ],
          "name": "stdout"
        }
      ]
    },
    {
      "cell_type": "code",
      "metadata": {
        "colab": {
          "base_uri": "https://localhost:8080/",
          "height": 320
        },
        "id": "k67teEGqw3Sz",
        "outputId": "aedfc72c-aacf-4985-854c-4be5885fcb21"
      },
      "source": [
        "L = [graph.laplacian(A, normalized=True) for A in graphs]\n",
        "graph.plot_spectrum(L)"
      ],
      "execution_count": 20,
      "outputs": [
        {
          "output_type": "display_data",
          "data": {
            "image/png": "[encoded data removed]",
            "text/plain": [
              "<Figure size 1224x360 with 1 Axes>"
            ]
          },
          "metadata": {
            "tags": [],
            "needs_background": "light"
          }
        }
      ]
    },
    {
      "cell_type": "code",
      "metadata": {
        "colab": {
          "base_uri": "https://localhost:8080/"
        },
        "id": "YaW9m1jSRces",
        "outputId": "c1c26915-f1ca-42fb-a85c-51a2bd1a6b1b"
      },
      "source": [
        "X_train = coarsening.perm_data(train_data, perm)\n",
        "X_val  = coarsening.perm_data(val_data,  perm)\n",
        "X_test =  coarsening.perm_data(test_data,  perm)\n",
        "print('==============>coarsening done!')"
      ],
      "execution_count": 21,
      "outputs": [
        {
          "output_type": "stream",
          "text": [
            "==============>coarsening done!\n"
          ],
          "name": "stdout"
        }
      ]
    },
    {
      "cell_type": "code",
      "metadata": {
        "id": "JijUyLFpevA5",
        "colab": {
          "base_uri": "https://localhost:8080/"
        },
        "outputId": "f3875a94-20fd-4b9b-95d8-4b3937686356"
      },
      "source": [
        "print(train_labels[1:20])"
      ],
      "execution_count": 22,
      "outputs": [
        {
          "output_type": "stream",
          "text": [
            "[2 0 1 1 0 2 0 0 0 0 1 0 0 0 2 1 1 3 2]\n"
          ],
          "name": "stdout"
        }
      ]
    },
    {
      "cell_type": "code",
      "metadata": {
        "id": "H89iIM1_w8Q0"
      },
      "source": [
        "\n",
        "params = dict()\n",
        "params['dir_name']       = 'demo'\n",
        "params['num_epochs']     = 50\n",
        "params['batch_size']     = 1024\n",
        "params['eval_frequency'] = 100\n",
        "\n",
        "# Building blocks.\n",
        "params['filter'] = 'chebyshev5'\n",
        "params['brelu']  = 'b2relu'\n",
        "params['pool']   = 'mpool1'\n",
        "\n",
        "# Architecture.\n",
        "params['F']              = [16,32,64,128,256,512]  # Number of graph convolutional filters.\n",
        "params['K']              = [2,2,2,2,2,2]  # Polynomial orders.\n",
        "params['p']              = [2,2,2,2,2,2]    # Pooling sizes.\n",
        "params['M']              = [4]  # Output dimensionality of fully connected layers.\n",
        "\n",
        "# Optimization.\n",
        "params['regularization'] = 0.001     # L2 regularization\n",
        "params['dropout']        = 0.50      # Dropout rate\n",
        "params['learning_rate']  = 0.0001  # Learning rate\n",
        "params['decay_rate']     = 1         # Learning rate Decay == 1 means no Decay\n",
        "params['momentum']       = 0         # momentum == 0 means Use Adam Optimizer\n",
        "n_train = np.shape(train_data)[0]\n",
        "params['decay_steps']    = n_train/ params['batch_size']"
      ],
      "execution_count": 23,
      "outputs": []
    },
    {
      "cell_type": "code",
      "metadata": {
        "colab": {
          "base_uri": "https://localhost:8080/"
        },
        "id": "C8SvhqS31yz5",
        "outputId": "4bb83b0d-27ab-4623-a348-c66a9bdcb049"
      },
      "source": [
        "!pwd"
      ],
      "execution_count": 24,
      "outputs": [
        {
          "output_type": "stream",
          "text": [
            "/content/drive/My Drive/NYU/Project/GCN/Starting/Notebooks\n"
          ],
          "name": "stdout"
        }
      ]
    },
    {
      "cell_type": "code",
      "metadata": {
        "colab": {
          "base_uri": "https://localhost:8080/"
        },
        "id": "WTfDFdaj6tHt",
        "outputId": "cdbb7c51-4bfb-42b9-8648-1b168f9cac16"
      },
      "source": [
        "model = GCN_Model.cgcnn(L, **params)\n"
      ],
      "execution_count": 25,
      "outputs": [
        {
          "output_type": "stream",
          "text": [
            "NN architecture\n",
            "input: M_0 = 64\n",
            "layer 1: cgconv1\n",
            "representation: M_0 * F_1 / p_1 = 64 * 16 / 2 = 512\n",
            "weights: F_0 * F_1 * K_1 = 1 * 16 * 2 = 32\n",
            "biases: M_1 * F_1 = 64 * 16 = 1024\n",
            "layer 2: cgconv2\n",
            "representation: M_1 * F_2 / p_2 = 32 * 32 / 2 = 512\n",
            "weights: F_1 * F_2 * K_2 = 16 * 32 * 2 = 1024\n",
            "biases: M_2 * F_2 = 32 * 32 = 1024\n",
            "layer 3: cgconv3\n",
            "representation: M_2 * F_3 / p_3 = 16 * 64 / 2 = 512\n",
            "weights: F_2 * F_3 * K_3 = 32 * 64 * 2 = 4096\n",
            "biases: M_3 * F_3 = 16 * 64 = 1024\n",
            "layer 4: cgconv4\n",
            "representation: M_3 * F_4 / p_4 = 8 * 128 / 2 = 512\n",
            "weights: F_3 * F_4 * K_4 = 64 * 128 * 2 = 16384\n",
            "biases: M_4 * F_4 = 8 * 128 = 1024\n",
            "layer 5: cgconv5\n",
            "representation: M_4 * F_5 / p_5 = 4 * 256 / 2 = 512\n",
            "weights: F_4 * F_5 * K_5 = 128 * 256 * 2 = 65536\n",
            "biases: M_5 * F_5 = 4 * 256 = 1024\n",
            "layer 6: cgconv6\n",
            "representation: M_5 * F_6 / p_6 = 2 * 512 / 2 = 512\n",
            "weights: F_5 * F_6 * K_6 = 256 * 512 * 2 = 262144\n",
            "biases: M_6 * F_6 = 2 * 512 = 1024\n",
            "layer 7: logits (softmax)\n",
            "representation: M_7 = 4\n",
            "weights: M_6 * M_7 = 512 * 4 = 2048\n",
            "biases: M_7 = 4\n",
            "WARNING:tensorflow:From /content/drive/MyDrive/NYU/Project/GCN/Starting/Notebooks/Lib/GCN_Model.py:433: The name tf.placeholder is deprecated. Please use tf.compat.v1.placeholder instead.\n",
            "\n",
            "WARNING:tensorflow:From /content/drive/MyDrive/NYU/Project/GCN/Starting/Notebooks/Lib/GCN_Model.py:896: The name tf.variable_scope is deprecated. Please use tf.compat.v1.variable_scope instead.\n",
            "\n",
            "WARNING:tensorflow:From /content/drive/MyDrive/NYU/Project/GCN/Starting/Notebooks/Lib/GCN_Model.py:810: The name tf.sparse_reorder is deprecated. Please use tf.sparse.reorder instead.\n",
            "\n",
            "WARNING:tensorflow:From /content/drive/MyDrive/NYU/Project/GCN/Starting/Notebooks/Lib/GCN_Model.py:822: The name tf.sparse_tensor_dense_matmul is deprecated. Please use tf.sparse.sparse_dense_matmul instead.\n",
            "\n",
            "WARNING:tensorflow:From /content/drive/MyDrive/NYU/Project/GCN/Starting/Notebooks/Lib/GCN_Model.py:556: The name tf.get_variable is deprecated. Please use tf.compat.v1.get_variable instead.\n",
            "\n",
            "WARNING:tensorflow:From /content/drive/MyDrive/NYU/Project/GCN/Starting/Notebooks/Lib/GCN_Model.py:559: The name tf.summary.histogram is deprecated. Please use tf.compat.v1.summary.histogram instead.\n",
            "\n",
            "WARNING:tensorflow:From /content/drive/MyDrive/NYU/Project/GCN/Starting/Notebooks/Lib/GCN_Model.py:859: batch_normalization (from tensorflow.python.layers.normalization) is deprecated and will be removed in a future version.\n",
            "Instructions for updating:\n",
            "Use keras.layers.BatchNormalization instead.  In particular, `tf.control_dependencies(tf.GraphKeys.UPDATE_OPS)` should not be used (consult the `tf.keras.layers.batch_normalization` documentation).\n",
            "WARNING:tensorflow:From /tensorflow-1.15.2/python3.7/tensorflow_core/python/layers/normalization.py:327: Layer.apply (from tensorflow.python.keras.engine.base_layer) is deprecated and will be removed in a future version.\n",
            "Instructions for updating:\n",
            "Please use `layer.__call__` method instead.\n",
            "WARNING:tensorflow:From /content/drive/MyDrive/NYU/Project/GCN/Starting/Notebooks/Lib/GCN_Model.py:867: The name tf.nn.max_pool is deprecated. Please use tf.nn.max_pool2d instead.\n",
            "\n",
            "WARNING:tensorflow:From /content/drive/MyDrive/NYU/Project/GCN/Starting/Notebooks/Lib/GCN_Model.py:485: to_int64 (from tensorflow.python.ops.math_ops) is deprecated and will be removed in a future version.\n",
            "Instructions for updating:\n",
            "Use `tf.cast` instead.\n",
            "WARNING:tensorflow:From /content/drive/MyDrive/NYU/Project/GCN/Starting/Notebooks/Lib/GCN_Model.py:495: The name tf.summary.scalar is deprecated. Please use tf.compat.v1.summary.scalar instead.\n",
            "\n",
            "WARNING:tensorflow:From /content/drive/MyDrive/NYU/Project/GCN/Starting/Notebooks/Lib/GCN_Model.py:522: The name tf.train.AdamOptimizer is deprecated. Please use tf.compat.v1.train.AdamOptimizer instead.\n",
            "\n",
            "warning: logits/batch_normalization/gamma has no gradient\n",
            "warning: logits/batch_normalization/beta has no gradient\n",
            "WARNING:tensorflow:From /content/drive/MyDrive/NYU/Project/GCN/Starting/Notebooks/Lib/GCN_Model.py:444: The name tf.global_variables_initializer is deprecated. Please use tf.compat.v1.global_variables_initializer instead.\n",
            "\n",
            "WARNING:tensorflow:From /content/drive/MyDrive/NYU/Project/GCN/Starting/Notebooks/Lib/GCN_Model.py:447: The name tf.summary.merge_all is deprecated. Please use tf.compat.v1.summary.merge_all instead.\n",
            "\n",
            "WARNING:tensorflow:From /content/drive/MyDrive/NYU/Project/GCN/Starting/Notebooks/Lib/GCN_Model.py:448: The name tf.train.Saver is deprecated. Please use tf.compat.v1.train.Saver instead.\n",
            "\n"
          ],
          "name": "stdout"
        }
      ]
    },
    {
      "cell_type": "code",
      "metadata": {
        "id": "3vjA3C5rihVI"
      },
      "source": [
        "accuracy, loss, t_step = model.fit(X_train, train_labels, X_val, val_labels)"
      ],
      "execution_count": null,
      "outputs": []
    },
    {
      "cell_type": "code",
      "metadata": {
        "id": "2M4OHy7_zKLh",
        "colab": {
          "base_uri": "https://localhost:8080/"
        },
        "outputId": "5d915712-4e8b-47c5-a135-7664183f64bf"
      },
      "source": [
        "results = model.evaluate(X_test, test_labels)\n"
      ],
      "execution_count": 27,
      "outputs": [
        {
          "output_type": "stream",
          "text": [
            "INFO:tensorflow:Restoring parameters from /content/drive/MyDrive/NYU/Project/GCN/Starting/Notebooks/Lib/../checkpoints/demo/model-500\n"
          ],
          "name": "stdout"
        }
      ]
    },
    {
      "cell_type": "code",
      "metadata": {
        "id": "0bNcujVR3luI"
      },
      "source": [
        "fig, ax1 = plt.subplots(figsize=(15, 5))\n",
        "ax1.plot(accuracy, 'b.-')\n",
        "ax1.set_ylabel('validation accuracy', color='b')\n",
        "ax1.set_ylim([0,100])\n",
        "ax2 = ax1.twinx()\n",
        "ax2.plot(loss, 'g.-')\n",
        "ax2.set_ylabel('training loss', color='g')\n",
        "plt.show()\n"
      ],
      "execution_count": null,
      "outputs": []
    },
    {
      "cell_type": "code",
      "metadata": {
        "id": "cN0zzJ9uPbuw"
      },
      "source": [
        "import pandas\n",
        "df = pandas.DataFrame(data={\"Loss\": loss, \"Accuracy\": accuracy})\n",
        "df.to_csv(\"./LA_Imag_NoFilter.csv\", sep=',',index=False)\n",
        "=df = pandas.DataFrame(data={\"Results\": results})\n",
        "df.to_csv(\"./Results_Imag_NoFilter.csv\", sep=',',index=False)"
      ],
      "execution_count": null,
      "outputs": []
    }
  ]
}