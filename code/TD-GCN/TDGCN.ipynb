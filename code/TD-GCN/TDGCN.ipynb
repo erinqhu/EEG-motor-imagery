{
  "nbformat": 4,
  "nbformat_minor": 0,
  "metadata": {
    "colab": {
      "name": "GCN3",
      "provenance": [],
      "collapsed_sections": []
    },
    "kernelspec": {
      "name": "python3",
      "display_name": "Python 3"
    },
    "language_info": {
      "name": "python"
    },
    "accelerator": "GPU"
  },
  "cells": [
    {
      "cell_type": "markdown",
      "metadata": {
        "id": "cSc6UXJKlVUj"
      },
      "source": [
        ""
      ]
    },
    {
      "cell_type": "code",
      "metadata": {
        "id": "SNUpLot71oX3",
        "colab": {
          "base_uri": "https://localhost:8080/"
        },
        "outputId": "87fc6dee-ed83-4856-c5ac-850ac3850eff"
      },
      "source": [
        "%tensorflow_version 1.x\n"
      ],
      "execution_count": null,
      "outputs": [
        {
          "output_type": "stream",
          "text": [
            "TensorFlow 1.x selected.\n"
          ],
          "name": "stdout"
        }
      ]
    },
    {
      "cell_type": "code",
      "metadata": {
        "colab": {
          "base_uri": "https://localhost:8080/"
        },
        "id": "2svkJUnLW3ki",
        "outputId": "9355f505-9b19-4e0b-c26f-f9c5213ee173"
      },
      "source": [
        "import tensorflow as tf\n",
        "print(tf.__version__)"
      ],
      "execution_count": null,
      "outputs": [
        {
          "output_type": "stream",
          "text": [
            "1.15.2\n"
          ],
          "name": "stdout"
        }
      ]
    },
    {
      "cell_type": "code",
      "metadata": {
        "colab": {
          "base_uri": "https://localhost:8080/"
        },
        "id": "Btcec50et2Dj",
        "outputId": "da81886c-b55b-418d-9595-42a1a65f0e69"
      },
      "source": [
        "!pwd"
      ],
      "execution_count": null,
      "outputs": [
        {
          "output_type": "stream",
          "text": [
            "/content\n"
          ],
          "name": "stdout"
        }
      ]
    },
    {
      "cell_type": "code",
      "metadata": {
        "colab": {
          "base_uri": "https://localhost:8080/"
        },
        "id": "TKrG93Va4_U4",
        "outputId": "e4ea0ffa-4f7d-4d79-b02d-8585b2ec9d9a"
      },
      "source": [
        "import tensorflow as tf\n",
        "print(tf.__version__)"
      ],
      "execution_count": null,
      "outputs": [
        {
          "output_type": "stream",
          "text": [
            "1.15.2\n"
          ],
          "name": "stdout"
        }
      ]
    },
    {
      "cell_type": "code",
      "metadata": {
        "id": "fmhx0LPeQkSl",
        "colab": {
          "base_uri": "https://localhost:8080/"
        },
        "outputId": "16bfdecf-2701-40aa-b568-21038cb442e0"
      },
      "source": [
        "from google.colab import drive\n",
        "drive.mount('/content/drive')"
      ],
      "execution_count": null,
      "outputs": [
        {
          "output_type": "stream",
          "text": [
            "Mounted at /content/drive\n"
          ],
          "name": "stdout"
        }
      ]
    },
    {
      "cell_type": "code",
      "metadata": {
        "id": "IqpF2kSHiAsH"
      },
      "source": [
        "import os\n",
        "os.chdir('..')"
      ],
      "execution_count": null,
      "outputs": []
    },
    {
      "cell_type": "code",
      "metadata": {
        "id": "CntxqCwGmToZ"
      },
      "source": [
        "os.chdir('..')"
      ],
      "execution_count": null,
      "outputs": []
    },
    {
      "cell_type": "code",
      "metadata": {
        "colab": {
          "base_uri": "https://localhost:8080/"
        },
        "id": "2gLKUCHxl59h",
        "outputId": "25237246-21bc-473e-e6fb-0568c7ae5233"
      },
      "source": [
        "!pwd"
      ],
      "execution_count": null,
      "outputs": [
        {
          "output_type": "stream",
          "text": [
            "/\n"
          ],
          "name": "stdout"
        }
      ]
    },
    {
      "cell_type": "code",
      "metadata": {
        "colab": {
          "base_uri": "https://localhost:8080/"
        },
        "id": "1GdsprtHhtvY",
        "outputId": "3212366e-27cd-4d65-9856-5d4ca91cabd1"
      },
      "source": [
        "% cd '/content/drive/MyDrive/NYU/Project/GCN/Other People/EEG-DL-master/EEG-DL-master'\n"
      ],
      "execution_count": null,
      "outputs": [
        {
          "output_type": "stream",
          "text": [
            "/content/drive/MyDrive/NYU/Project/GCN/Other People/EEG-DL-master/EEG-DL-master\n"
          ],
          "name": "stdout"
        }
      ]
    },
    {
      "cell_type": "markdown",
      "metadata": {
        "id": "uMz0VJoZuOvT"
      },
      "source": [
        "* Install the GCN libraries by Defferard.\n",
        "* These were used by Jia et al. as a template to write their code.\n",
        "* We should also use them as our template"
      ]
    },
    {
      "cell_type": "code",
      "metadata": {
        "id": "AGr5d38D17wY"
      },
      "source": [
        "from Models.Network.lib_for_GCN import GCN_Model, graph, coarsening\n"
      ],
      "execution_count": null,
      "outputs": []
    },
    {
      "cell_type": "code",
      "metadata": {
        "id": "sg05xfn-wGyk"
      },
      "source": [
        "import numpy as np\n",
        "import matplotlib.pyplot as plt\n",
        "import pandas as pd\n",
        "from scipy import sparse\n",
        "device = 'cuda:0'\n",
        "%matplotlib inline"
      ],
      "execution_count": null,
      "outputs": []
    },
    {
      "cell_type": "code",
      "metadata": {
        "id": "1pUKQqzPWw2z"
      },
      "source": [
        "# Clear all the stack and use GPU resources as much as possible\n",
        "tf.reset_default_graph()\n",
        "config = tf.ConfigProto()\n",
        "config.gpu_options.allow_growth = True\n",
        "sess = tf.Session(config=config)"
      ],
      "execution_count": null,
      "outputs": []
    },
    {
      "cell_type": "code",
      "metadata": {
        "id": "JycppGeOQsfM"
      },
      "source": [
        "train_data = pd.read_csv ('/content/drive/MyDrive/NYU/Project/GCN/Starting/Imaginary Data/CSV Files/All Electrodes/training_set.csv', header=None)\n",
        "train_labels = pd.read_csv ('/content/drive/MyDrive/NYU/Project/GCN/Starting/Imaginary Data/CSV Files/All Electrodes/training_label.csv', header=None)\n",
        "val_data = pd.read_csv ('/content/drive/MyDrive/NYU/Project/GCN/Starting/Imaginary Data/CSV Files/All Electrodes/val_set.csv', header=None)\n",
        "val_labels = pd.read_csv ('/content/drive/MyDrive/NYU/Project/GCN/Starting/Imaginary Data/CSV Files/All Electrodes/val_label.csv', header=None)\n",
        "test_data = pd.read_csv ('/content/drive/MyDrive/NYU/Project/GCN/Starting/Imaginary Data/CSV Files/All Electrodes/test_set.csv', header=None)\n",
        "test_labels = pd.read_csv ('/content/drive/MyDrive/NYU/Project/GCN/Starting/Imaginary Data/CSV Files/All Electrodes/test_label.csv', header=None)"
      ],
      "execution_count": null,
      "outputs": []
    },
    {
      "cell_type": "code",
      "metadata": {
        "id": "CSWJHW1XSaAM"
      },
      "source": [
        "train_data = train_data.to_numpy()\n",
        "train_data = train_data.astype('float32')\n",
        "train_labels = train_labels.to_numpy()\n",
        "train_labels = train_labels.astype('int32')\n",
        "val_data = val_data.to_numpy()\n",
        "val_data = val_data.astype('float32')\n",
        "val_labels = val_labels.to_numpy()\n",
        "val_labels = val_labels.astype('int32')\n",
        "test_data = test_data.to_numpy()\n",
        "test_data = test_data.astype('float32')\n",
        "test_labels = test_labels.to_numpy()\n",
        "test_labels = test_labels.astype('int32')\n",
        "train_labels=train_labels.reshape(430080,)\n",
        "val_labels= val_labels.reshape(53760,)\n",
        "test_labels= test_labels.reshape(53760,)\n"
      ],
      "execution_count": null,
      "outputs": []
    },
    {
      "cell_type": "code",
      "metadata": {
        "colab": {
          "base_uri": "https://localhost:8080/"
        },
        "id": "3vv23K69Q6wE",
        "outputId": "ec284aef-7935-4001-e7ac-210060badb49"
      },
      "source": [
        "print(train_data.shape)\n",
        "print(train_labels.shape)\n",
        "print(val_data.shape)\n",
        "print(val_labels.shape)"
      ],
      "execution_count": null,
      "outputs": [
        {
          "output_type": "stream",
          "text": [
            "(430080, 64)\n",
            "(430080,)\n",
            "(53760, 64)\n",
            "(53760,)\n"
          ],
          "name": "stdout"
        }
      ]
    },
    {
      "cell_type": "code",
      "metadata": {
        "colab": {
          "base_uri": "https://localhost:8080/"
        },
        "id": "mJY9nB0LTiis",
        "outputId": "1801625d-1e7b-4449-894b-dade6c7eec83"
      },
      "source": [
        "type(train_data)"
      ],
      "execution_count": null,
      "outputs": [
        {
          "output_type": "execute_result",
          "data": {
            "text/plain": [
              "numpy.ndarray"
            ]
          },
          "metadata": {
            "tags": []
          },
          "execution_count": 16
        }
      ]
    },
    {
      "cell_type": "code",
      "metadata": {
        "colab": {
          "base_uri": "https://localhost:8080/"
        },
        "id": "7M-rmywiQ-H8",
        "outputId": "f88ef6b0-5963-446f-9897-d555a336d5ab"
      },
      "source": [
        "Adjacency_Matrix = pd.read_csv ('/content/drive/MyDrive/NYU/Project/GCN/Starting/Imaginary Data/CSV Files/All Electrodes/Adjacency_Matrix.csv', header=None,float_precision=32)\n",
        "Adjacency_Matrix = Adjacency_Matrix.to_numpy()\n",
        "Adjacency_Matrix = Adjacency_Matrix.astype('float32')\n",
        "Adjacency_Matrix = sparse.csr_matrix(Adjacency_Matrix)\n",
        "\n",
        "print('==============> Adjancy matrix read!')\n",
        "print(Adjacency_Matrix.shape)"
      ],
      "execution_count": null,
      "outputs": [
        {
          "output_type": "stream",
          "text": [
            "==============> Adjancy matrix read!\n",
            "(64, 64)\n"
          ],
          "name": "stdout"
        }
      ]
    },
    {
      "cell_type": "code",
      "metadata": {
        "colab": {
          "base_uri": "https://localhost:8080/"
        },
        "id": "w78YQBZYwyoT",
        "outputId": "669d2427-f9f5-4383-fb96-aca6c2538204"
      },
      "source": [
        "graphs, perm = coarsening.coarsen(Adjacency_Matrix, levels=5, self_connections=False)\n"
      ],
      "execution_count": null,
      "outputs": [
        {
          "output_type": "stream",
          "text": [
            "Layer 0: M_0 = |V| = 64 nodes (0 added),|E| = 2016 edges\n",
            "Layer 1: M_1 = |V| = 32 nodes (0 added),|E| = 496 edges\n",
            "Layer 2: M_2 = |V| = 16 nodes (0 added),|E| = 120 edges\n",
            "Layer 3: M_3 = |V| = 8 nodes (0 added),|E| = 28 edges\n",
            "Layer 4: M_4 = |V| = 4 nodes (0 added),|E| = 6 edges\n",
            "Layer 5: M_5 = |V| = 2 nodes (0 added),|E| = 1 edges\n"
          ],
          "name": "stdout"
        }
      ]
    },
    {
      "cell_type": "code",
      "metadata": {
        "colab": {
          "base_uri": "https://localhost:8080/",
          "height": 320
        },
        "id": "k67teEGqw3Sz",
        "outputId": "0c7a0473-a112-4592-892f-8ec5968603b2"
      },
      "source": [
        "L = [graph.laplacian(A, normalized=True) for A in graphs]\n",
        "graph.plot_spectrum(L)"
      ],
      "execution_count": null,
      "outputs": [
        {
          "output_type": "display_data",
          "data": {
            "image/png": "[encoded data removed]",
            "text/plain": [
              "<Figure size 1224x360 with 1 Axes>"
            ]
          },
          "metadata": {
            "tags": [],
            "needs_background": "light"
          }
        }
      ]
    },
    {
      "cell_type": "code",
      "metadata": {
        "colab": {
          "base_uri": "https://localhost:8080/"
        },
        "id": "YaW9m1jSRces",
        "outputId": "a66c5370-2f4f-4e54-972c-0d4d8f2b90ec"
      },
      "source": [
        "X_train = coarsening.perm_data(train_data, perm)\n",
        "X_val  = coarsening.perm_data(val_data,  perm)\n",
        "X_test =  coarsening.perm_data(test_data,  perm)\n",
        "print('==============>coarsening done!')"
      ],
      "execution_count": null,
      "outputs": [
        {
          "output_type": "stream",
          "text": [
            "==============>coarsening done!\n"
          ],
          "name": "stdout"
        }
      ]
    },
    {
      "cell_type": "code",
      "metadata": {
        "id": "JijUyLFpevA5",
        "colab": {
          "base_uri": "https://localhost:8080/"
        },
        "outputId": "53cd5a3e-3054-4125-f4e1-19b633b41d89"
      },
      "source": [
        "print(train_labels[1:20])"
      ],
      "execution_count": null,
      "outputs": [
        {
          "output_type": "stream",
          "text": [
            "[2 0 1 1 0 2 0 0 0 0 1 0 0 0 2 1 1 3 2]\n"
          ],
          "name": "stdout"
        }
      ]
    },
    {
      "cell_type": "code",
      "metadata": {
        "id": "H89iIM1_w8Q0"
      },
      "source": [
        "\n",
        "params = dict()\n",
        "params['dir_name']       = 'demo'\n",
        "params['num_epochs']     = 50\n",
        "params['batch_size']     = 1024\n",
        "params['eval_frequency'] = 100\n",
        "\n",
        "# Building blocks.\n",
        "params['filter'] = 'chebyshev5'\n",
        "params['brelu']  = 'b2relu'\n",
        "params['pool']   = 'mpool1'\n",
        "\n",
        "# Architecture.\n",
        "params['F']              = [16,32,64,128,256,512]  # Number of graph convolutional filters.\n",
        "params['K']              = [2,2,2,2,2,2]  # Polynomial orders.\n",
        "params['p']              = [2,2,2,2,2,2]    # Pooling sizes.\n",
        "params['M']              = [4]  # Output dimensionality of fully connected layers.\n",
        "\n",
        "# Optimization.\n",
        "params['regularization'] = 0.001     # L2 regularization\n",
        "params['dropout']        = 0.50      # Dropout rate\n",
        "params['learning_rate']  = 0.0001  # Learning rate\n",
        "params['decay_rate']     = 1         # Learning rate Decay == 1 means no Decay\n",
        "params['momentum']       = 0         # momentum == 0 means Use Adam Optimizer\n",
        "n_train = np.shape(train_data)[0]\n",
        "params['decay_steps']    = n_train/ params['batch_size']"
      ],
      "execution_count": null,
      "outputs": []
    },
    {
      "cell_type": "code",
      "metadata": {
        "colab": {
          "base_uri": "https://localhost:8080/"
        },
        "id": "C8SvhqS31yz5",
        "outputId": "475baf4c-e54e-47b7-a937-8a62af9f455b"
      },
      "source": [
        "!pwd"
      ],
      "execution_count": null,
      "outputs": [
        {
          "output_type": "stream",
          "text": [
            "/content/drive/MyDrive/NYU/Project/GCN/Other People/EEG-DL-master/EEG-DL-master\n"
          ],
          "name": "stdout"
        }
      ]
    },
    {
      "cell_type": "code",
      "metadata": {
        "colab": {
          "base_uri": "https://localhost:8080/"
        },
        "id": "WTfDFdaj6tHt",
        "outputId": "c28dc7ed-311c-49c4-f500-5f243b9da0fe"
      },
      "source": [
        "model = GCN_Model.cgcnn(L, **params)\n"
      ],
      "execution_count": null,
      "outputs": [
        {
          "output_type": "stream",
          "text": [
            "NN architecture\n",
            "input: M_0 = 64\n",
            "layer 1: cgconv1\n",
            "representation: M_0 * F_1 / p_1 = 64 * 16 / 2 = 512\n",
            "weights: F_0 * F_1 * K_1 = 1 * 16 * 2 = 32\n",
            "biases: M_1 * F_1 = 64 * 16 = 1024\n",
            "layer 2: cgconv2\n",
            "representation: M_1 * F_2 / p_2 = 32 * 32 / 2 = 512\n",
            "weights: F_1 * F_2 * K_2 = 16 * 32 * 2 = 1024\n",
            "biases: M_2 * F_2 = 32 * 32 = 1024\n",
            "layer 3: cgconv3\n",
            "representation: M_2 * F_3 / p_3 = 16 * 64 / 2 = 512\n",
            "weights: F_2 * F_3 * K_3 = 32 * 64 * 2 = 4096\n",
            "biases: M_3 * F_3 = 16 * 64 = 1024\n",
            "layer 4: cgconv4\n",
            "representation: M_3 * F_4 / p_4 = 8 * 128 / 2 = 512\n",
            "weights: F_3 * F_4 * K_4 = 64 * 128 * 2 = 16384\n",
            "biases: M_4 * F_4 = 8 * 128 = 1024\n",
            "layer 5: cgconv5\n",
            "representation: M_4 * F_5 / p_5 = 4 * 256 / 2 = 512\n",
            "weights: F_4 * F_5 * K_5 = 128 * 256 * 2 = 65536\n",
            "biases: M_5 * F_5 = 4 * 256 = 1024\n",
            "layer 6: cgconv6\n",
            "representation: M_5 * F_6 / p_6 = 2 * 512 / 2 = 512\n",
            "weights: F_5 * F_6 * K_6 = 256 * 512 * 2 = 262144\n",
            "biases: M_6 * F_6 = 2 * 512 = 1024\n",
            "layer 7: logits (softmax)\n",
            "representation: M_7 = 4\n",
            "weights: M_6 * M_7 = 512 * 4 = 2048\n",
            "biases: M_7 = 4\n",
            "WARNING:tensorflow:From /content/drive/MyDrive/NYU/Project/GCN/Other People/EEG-DL-master/EEG-DL-master/Models/Network/lib_for_GCN/GCN_Model.py:433: The name tf.placeholder is deprecated. Please use tf.compat.v1.placeholder instead.\n",
            "\n",
            "WARNING:tensorflow:From /content/drive/MyDrive/NYU/Project/GCN/Other People/EEG-DL-master/EEG-DL-master/Models/Network/lib_for_GCN/GCN_Model.py:896: The name tf.variable_scope is deprecated. Please use tf.compat.v1.variable_scope instead.\n",
            "\n",
            "WARNING:tensorflow:From /content/drive/MyDrive/NYU/Project/GCN/Other People/EEG-DL-master/EEG-DL-master/Models/Network/lib_for_GCN/GCN_Model.py:810: The name tf.sparse_reorder is deprecated. Please use tf.sparse.reorder instead.\n",
            "\n",
            "WARNING:tensorflow:From /content/drive/MyDrive/NYU/Project/GCN/Other People/EEG-DL-master/EEG-DL-master/Models/Network/lib_for_GCN/GCN_Model.py:822: The name tf.sparse_tensor_dense_matmul is deprecated. Please use tf.sparse.sparse_dense_matmul instead.\n",
            "\n",
            "WARNING:tensorflow:From /content/drive/MyDrive/NYU/Project/GCN/Other People/EEG-DL-master/EEG-DL-master/Models/Network/lib_for_GCN/GCN_Model.py:556: The name tf.get_variable is deprecated. Please use tf.compat.v1.get_variable instead.\n",
            "\n",
            "WARNING:tensorflow:From /content/drive/MyDrive/NYU/Project/GCN/Other People/EEG-DL-master/EEG-DL-master/Models/Network/lib_for_GCN/GCN_Model.py:559: The name tf.summary.histogram is deprecated. Please use tf.compat.v1.summary.histogram instead.\n",
            "\n",
            "WARNING:tensorflow:From /content/drive/MyDrive/NYU/Project/GCN/Other People/EEG-DL-master/EEG-DL-master/Models/Network/lib_for_GCN/GCN_Model.py:859: batch_normalization (from tensorflow.python.layers.normalization) is deprecated and will be removed in a future version.\n",
            "Instructions for updating:\n",
            "Use keras.layers.BatchNormalization instead.  In particular, `tf.control_dependencies(tf.GraphKeys.UPDATE_OPS)` should not be used (consult the `tf.keras.layers.batch_normalization` documentation).\n",
            "WARNING:tensorflow:From /tensorflow-1.15.2/python3.7/tensorflow_core/python/layers/normalization.py:327: Layer.apply (from tensorflow.python.keras.engine.base_layer) is deprecated and will be removed in a future version.\n",
            "Instructions for updating:\n",
            "Please use `layer.__call__` method instead.\n",
            "WARNING:tensorflow:From /content/drive/MyDrive/NYU/Project/GCN/Other People/EEG-DL-master/EEG-DL-master/Models/Network/lib_for_GCN/GCN_Model.py:867: The name tf.nn.max_pool is deprecated. Please use tf.nn.max_pool2d instead.\n",
            "\n",
            "WARNING:tensorflow:From /content/drive/MyDrive/NYU/Project/GCN/Other People/EEG-DL-master/EEG-DL-master/Models/Network/lib_for_GCN/GCN_Model.py:485: to_int64 (from tensorflow.python.ops.math_ops) is deprecated and will be removed in a future version.\n",
            "Instructions for updating:\n",
            "Use `tf.cast` instead.\n",
            "WARNING:tensorflow:From /content/drive/MyDrive/NYU/Project/GCN/Other People/EEG-DL-master/EEG-DL-master/Models/Network/lib_for_GCN/GCN_Model.py:495: The name tf.summary.scalar is deprecated. Please use tf.compat.v1.summary.scalar instead.\n",
            "\n",
            "WARNING:tensorflow:From /content/drive/MyDrive/NYU/Project/GCN/Other People/EEG-DL-master/EEG-DL-master/Models/Network/lib_for_GCN/GCN_Model.py:522: The name tf.train.AdamOptimizer is deprecated. Please use tf.compat.v1.train.AdamOptimizer instead.\n",
            "\n",
            "warning: logits/batch_normalization/gamma has no gradient\n",
            "warning: logits/batch_normalization/beta has no gradient\n",
            "WARNING:tensorflow:From /content/drive/MyDrive/NYU/Project/GCN/Other People/EEG-DL-master/EEG-DL-master/Models/Network/lib_for_GCN/GCN_Model.py:444: The name tf.global_variables_initializer is deprecated. Please use tf.compat.v1.global_variables_initializer instead.\n",
            "\n",
            "WARNING:tensorflow:From /content/drive/MyDrive/NYU/Project/GCN/Other People/EEG-DL-master/EEG-DL-master/Models/Network/lib_for_GCN/GCN_Model.py:447: The name tf.summary.merge_all is deprecated. Please use tf.compat.v1.summary.merge_all instead.\n",
            "\n",
            "WARNING:tensorflow:From /content/drive/MyDrive/NYU/Project/GCN/Other People/EEG-DL-master/EEG-DL-master/Models/Network/lib_for_GCN/GCN_Model.py:448: The name tf.train.Saver is deprecated. Please use tf.compat.v1.train.Saver instead.\n",
            "\n"
          ],
          "name": "stdout"
        }
      ]
    },
    {
      "cell_type": "code",
      "metadata": {
        "id": "3vjA3C5rihVI",
        "colab": {
          "base_uri": "https://localhost:8080/",
          "height": 1000
        },
        "outputId": "4d4ee7a6-9fbb-46c6-f105-4c8e642147a7"
      },
      "source": [
        "accuracy, loss, t_step = model.fit(X_train, train_labels, X_val, val_labels)"
      ],
      "execution_count": null,
      "outputs": [
        {
          "output_type": "stream",
          "text": [
            "NN architecture\n",
            "input: M_0 = 64\n",
            "layer 1: cgconv1\n",
            "representation: M_0 * F_1 / p_1 = 64 * 16 / 2 = 512\n",
            "weights: F_0 * F_1 * K_1 = 1 * 16 * 2 = 32\n",
            "biases: M_1 * F_1 = 64 * 16 = 1024\n",
            "layer 2: cgconv2\n",
            "representation: M_1 * F_2 / p_2 = 32 * 32 / 2 = 512\n",
            "weights: F_1 * F_2 * K_2 = 16 * 32 * 2 = 1024\n",
            "biases: M_2 * F_2 = 32 * 32 = 1024\n",
            "layer 3: cgconv3\n",
            "representation: M_2 * F_3 / p_3 = 16 * 64 / 2 = 512\n",
            "weights: F_2 * F_3 * K_3 = 32 * 64 * 2 = 4096\n",
            "biases: M_3 * F_3 = 16 * 64 = 1024\n",
            "layer 4: cgconv4\n",
            "representation: M_3 * F_4 / p_4 = 8 * 128 / 2 = 512\n",
            "weights: F_3 * F_4 * K_4 = 64 * 128 * 2 = 16384\n",
            "biases: M_4 * F_4 = 8 * 128 = 1024\n",
            "layer 5: cgconv5\n",
            "representation: M_4 * F_5 / p_5 = 4 * 256 / 2 = 512\n",
            "weights: F_4 * F_5 * K_5 = 128 * 256 * 2 = 65536\n",
            "biases: M_5 * F_5 = 4 * 256 = 1024\n",
            "layer 6: cgconv6\n",
            "representation: M_5 * F_6 / p_6 = 2 * 512 / 2 = 512\n",
            "weights: F_5 * F_6 * K_6 = 256 * 512 * 2 = 262144\n",
            "biases: M_6 * F_6 = 2 * 512 = 1024\n",
            "layer 7: logits (softmax)\n",
            "representation: M_7 = 4\n",
            "weights: M_6 * M_7 = 512 * 4 = 2048\n",
            "biases: M_7 = 4\n",
            "WARNING:tensorflow:From /content/drive/MyDrive/NYU/Project/GCN/Other People/EEG-DL-master/EEG-DL-master/Models/Network/lib_for_GCN/GCN_Model.py:433: The name tf.placeholder is deprecated. Please use tf.compat.v1.placeholder instead.\n",
            "\n",
            "WARNING:tensorflow:From /content/drive/MyDrive/NYU/Project/GCN/Other People/EEG-DL-master/EEG-DL-master/Models/Network/lib_for_GCN/GCN_Model.py:896: The name tf.variable_scope is deprecated. Please use tf.compat.v1.variable_scope instead.\n",
            "\n",
            "WARNING:tensorflow:From /content/drive/MyDrive/NYU/Project/GCN/Other People/EEG-DL-master/EEG-DL-master/Models/Network/lib_for_GCN/GCN_Model.py:810: The name tf.sparse_reorder is deprecated. Please use tf.sparse.reorder instead.\n",
            "\n",
            "WARNING:tensorflow:From /content/drive/MyDrive/NYU/Project/GCN/Other People/EEG-DL-master/EEG-DL-master/Models/Network/lib_for_GCN/GCN_Model.py:822: The name tf.sparse_tensor_dense_matmul is deprecated. Please use tf.sparse.sparse_dense_matmul instead.\n",
            "\n",
            "WARNING:tensorflow:From /content/drive/MyDrive/NYU/Project/GCN/Other People/EEG-DL-master/EEG-DL-master/Models/Network/lib_for_GCN/GCN_Model.py:556: The name tf.get_variable is deprecated. Please use tf.compat.v1.get_variable instead.\n",
            "\n",
            "WARNING:tensorflow:From /content/drive/MyDrive/NYU/Project/GCN/Other People/EEG-DL-master/EEG-DL-master/Models/Network/lib_for_GCN/GCN_Model.py:559: The name tf.summary.histogram is deprecated. Please use tf.compat.v1.summary.histogram instead.\n",
            "\n",
            "WARNING:tensorflow:From /content/drive/MyDrive/NYU/Project/GCN/Other People/EEG-DL-master/EEG-DL-master/Models/Network/lib_for_GCN/GCN_Model.py:859: batch_normalization (from tensorflow.python.layers.normalization) is deprecated and will be removed in a future version.\n",
            "Instructions for updating:\n",
            "Use keras.layers.BatchNormalization instead.  In particular, `tf.control_dependencies(tf.GraphKeys.UPDATE_OPS)` should not be used (consult the `tf.keras.layers.batch_normalization` documentation).\n",
            "WARNING:tensorflow:From /tensorflow-1.15.2/python3.7/tensorflow_core/python/layers/normalization.py:327: Layer.apply (from tensorflow.python.keras.engine.base_layer) is deprecated and will be removed in a future version.\n",
            "Instructions for updating:\n",
            "Please use `layer.__call__` method instead.\n",
            "WARNING:tensorflow:From /content/drive/MyDrive/NYU/Project/GCN/Other People/EEG-DL-master/EEG-DL-master/Models/Network/lib_for_GCN/GCN_Model.py:867: The name tf.nn.max_pool is deprecated. Please use tf.nn.max_pool2d instead.\n",
            "\n",
            "WARNING:tensorflow:From /content/drive/MyDrive/NYU/Project/GCN/Other People/EEG-DL-master/EEG-DL-master/Models/Network/lib_for_GCN/GCN_Model.py:485: to_int64 (from tensorflow.python.ops.math_ops) is deprecated and will be removed in a future version.\n",
            "Instructions for updating:\n",
            "Use `tf.cast` instead.\n",
            "WARNING:tensorflow:From /content/drive/MyDrive/NYU/Project/GCN/Other People/EEG-DL-master/EEG-DL-master/Models/Network/lib_for_GCN/GCN_Model.py:495: The name tf.summary.scalar is deprecated. Please use tf.compat.v1.summary.scalar instead.\n",
            "\n",
            "WARNING:tensorflow:From /content/drive/MyDrive/NYU/Project/GCN/Other People/EEG-DL-master/EEG-DL-master/Models/Network/lib_for_GCN/GCN_Model.py:522: The name tf.train.AdamOptimizer is deprecated. Please use tf.compat.v1.train.AdamOptimizer instead.\n",
            "\n",
            "warning: logits/batch_normalization/gamma has no gradient\n",
            "warning: logits/batch_normalization/beta has no gradient\n",
            "WARNING:tensorflow:From /content/drive/MyDrive/NYU/Project/GCN/Other People/EEG-DL-master/EEG-DL-master/Models/Network/lib_for_GCN/GCN_Model.py:444: The name tf.global_variables_initializer is deprecated. Please use tf.compat.v1.global_variables_initializer instead.\n",
            "\n",
            "WARNING:tensorflow:From /content/drive/MyDrive/NYU/Project/GCN/Other People/EEG-DL-master/EEG-DL-master/Models/Network/lib_for_GCN/GCN_Model.py:447: The name tf.summary.merge_all is deprecated. Please use tf.compat.v1.summary.merge_all instead.\n",
            "\n",
            "WARNING:tensorflow:From /content/drive/MyDrive/NYU/Project/GCN/Other People/EEG-DL-master/EEG-DL-master/Models/Network/lib_for_GCN/GCN_Model.py:448: The name tf.train.Saver is deprecated. Please use tf.compat.v1.train.Saver instead.\n",
            "\n",
            "WARNING:tensorflow:From /content/drive/MyDrive/NYU/Project/GCN/Other People/EEG-DL-master/EEG-DL-master/Models/Network/lib_for_GCN/GCN_Model.py:328: The name tf.summary.FileWriter is deprecated. Please use tf.compat.v1.summary.FileWriter instead.\n",
            "\n",
            "step 100 / 21000 (epoch 0.24 / 50):\n",
            "learning_rate = 0.000100, loss_average = 1.380458\n",
            "WARNING:tensorflow:From /content/drive/MyDrive/NYU/Project/GCN/Other People/EEG-DL-master/EEG-DL-master/Models/Network/lib_for_GCN/GCN_Model.py:69: The name tf.get_default_graph is deprecated. Please use tf.compat.v1.get_default_graph instead.\n",
            "\n",
            "validation accuracy: 31.318824 (16837 / 53760), f1: 31.259510, loss: 1.387261\n",
            "time: 4s (wall 11s)\n",
            "WARNING:tensorflow:From /content/drive/MyDrive/NYU/Project/GCN/Other People/EEG-DL-master/EEG-DL-master/Models/Network/lib_for_GCN/GCN_Model.py:380: The name tf.Summary is deprecated. Please use tf.compat.v1.Summary instead.\n",
            "\n",
            "step 200 / 21000 (epoch 0.48 / 50):\n",
            "learning_rate = 0.000100, loss_average = 1.348701\n",
            "validation accuracy: 34.220610 (18397 / 53760), f1: 33.738167, loss: 1.361765\n",
            "time: 7s (wall 13s)\n",
            "step 300 / 21000 (epoch 0.71 / 50):\n",
            "learning_rate = 0.000100, loss_average = 1.321186\n",
            "validation accuracy: 36.476935 (19610 / 53760), f1: 36.303374, loss: 1.337096\n",
            "time: 9s (wall 15s)\n",
            "step 400 / 21000 (epoch 0.95 / 50):\n",
            "learning_rate = 0.000100, loss_average = 1.305949\n",
            "validation accuracy: 38.385417 (20636 / 53760), f1: 38.149414, loss: 1.316920\n",
            "time: 11s (wall 17s)\n",
            "step 500 / 21000 (epoch 1.19 / 50):\n",
            "learning_rate = 0.000100, loss_average = 1.290811\n",
            "validation accuracy: 38.869048 (20896 / 53760), f1: 38.735291, loss: 1.306342\n",
            "time: 13s (wall 19s)\n",
            "step 600 / 21000 (epoch 1.43 / 50):\n",
            "learning_rate = 0.000100, loss_average = 1.264112\n",
            "validation accuracy: 40.290179 (21660 / 53760), f1: 40.195703, loss: 1.292582\n",
            "time: 16s (wall 22s)\n",
            "WARNING:tensorflow:From /tensorflow-1.15.2/python3.7/tensorflow_core/python/training/saver.py:963: remove_checkpoint (from tensorflow.python.training.checkpoint_management) is deprecated and will be removed in a future version.\n",
            "Instructions for updating:\n",
            "Use standard file APIs to delete files with this prefix.\n",
            "step 700 / 21000 (epoch 1.67 / 50):\n",
            "learning_rate = 0.000100, loss_average = 1.260730\n"
          ],
          "name": "stdout"
        },
        {
          "output_type": "stream",
          "text": [
            "ERROR:root:Internal Python error in the inspect module.\n",
            "Below is the traceback from this internal error.\n",
            "\n"
          ],
          "name": "stderr"
        },
        {
          "output_type": "stream",
          "text": [
            "Traceback (most recent call last):\n",
            "  File \"/usr/local/lib/python3.7/dist-packages/IPython/core/interactiveshell.py\", line 2882, in run_code\n",
            "    exec(code_obj, self.user_global_ns, self.user_ns)\n",
            "  File \"<ipython-input-24-18e2c13df0f7>\", line 2, in <module>\n",
            "    accuracy, loss, t_step = model.fit(X_train, train_labels, X_val, val_labels)\n",
            "  File \"/content/drive/MyDrive/NYU/Project/GCN/Other People/EEG-DL-master/EEG-DL-master/Models/Network/lib_for_GCN/GCN_Model.py\", line 366, in fit\n",
            "    Macro_Global_Precision_numpy, Macro_Global_Recall_numpy, Macro_Global_F1_Score_numpy = self.evaluate(val_data, val_labels, sess)\n",
            "  File \"/content/drive/MyDrive/NYU/Project/GCN/Other People/EEG-DL-master/EEG-DL-master/Models/Network/lib_for_GCN/GCN_Model.py\", line 262, in evaluate\n",
            "    T4_T1_percent_numpy = T4_T1_percent.eval(session=sess)\n",
            "  File \"/tensorflow-1.15.2/python3.7/tensorflow_core/python/framework/ops.py\", line 798, in eval\n",
            "    return _eval_using_default_session(self, feed_dict, self.graph, session)\n",
            "  File \"/tensorflow-1.15.2/python3.7/tensorflow_core/python/framework/ops.py\", line 5407, in _eval_using_default_session\n",
            "    return session.run(tensors, feed_dict)\n",
            "  File \"/tensorflow-1.15.2/python3.7/tensorflow_core/python/client/session.py\", line 956, in run\n",
            "    run_metadata_ptr)\n",
            "  File \"/tensorflow-1.15.2/python3.7/tensorflow_core/python/client/session.py\", line 1180, in _run\n",
            "    feed_dict_tensor, options, run_metadata)\n",
            "  File \"/tensorflow-1.15.2/python3.7/tensorflow_core/python/client/session.py\", line 1359, in _do_run\n",
            "    run_metadata)\n",
            "  File \"/tensorflow-1.15.2/python3.7/tensorflow_core/python/client/session.py\", line 1365, in _do_call\n",
            "    return fn(*args)\n",
            "  File \"/tensorflow-1.15.2/python3.7/tensorflow_core/python/client/session.py\", line 1350, in _run_fn\n",
            "    target_list, run_metadata)\n",
            "  File \"/tensorflow-1.15.2/python3.7/tensorflow_core/python/client/session.py\", line 1443, in _call_tf_sessionrun\n",
            "    run_metadata)\n",
            "KeyboardInterrupt\n",
            "\n",
            "During handling of the above exception, another exception occurred:\n",
            "\n",
            "Traceback (most recent call last):\n",
            "  File \"/usr/local/lib/python3.7/dist-packages/IPython/core/interactiveshell.py\", line 1823, in showtraceback\n",
            "    stb = value._render_traceback_()\n",
            "AttributeError: 'KeyboardInterrupt' object has no attribute '_render_traceback_'\n",
            "\n",
            "During handling of the above exception, another exception occurred:\n",
            "\n",
            "Traceback (most recent call last):\n",
            "  File \"/usr/local/lib/python3.7/dist-packages/IPython/core/ultratb.py\", line 1132, in get_records\n",
            "    return _fixed_getinnerframes(etb, number_of_lines_of_context, tb_offset)\n",
            "  File \"/usr/local/lib/python3.7/dist-packages/IPython/core/ultratb.py\", line 313, in wrapped\n",
            "    return f(*args, **kwargs)\n",
            "  File \"/usr/local/lib/python3.7/dist-packages/IPython/core/ultratb.py\", line 358, in _fixed_getinnerframes\n",
            "    records = fix_frame_records_filenames(inspect.getinnerframes(etb, context))\n",
            "  File \"/usr/lib/python3.7/inspect.py\", line 1502, in getinnerframes\n",
            "    frameinfo = (tb.tb_frame,) + getframeinfo(tb, context)\n",
            "  File \"/usr/lib/python3.7/inspect.py\", line 1460, in getframeinfo\n",
            "    filename = getsourcefile(frame) or getfile(frame)\n",
            "  File \"/usr/lib/python3.7/inspect.py\", line 696, in getsourcefile\n",
            "    if getattr(getmodule(object, filename), '__loader__', None) is not None:\n",
            "  File \"/usr/lib/python3.7/inspect.py\", line 733, in getmodule\n",
            "    if ismodule(module) and hasattr(module, '__file__'):\n",
            "  File \"/tensorflow-1.15.2/python3.7/tensorflow/__init__.py\", line 50, in __getattr__\n",
            "    module = self._load()\n",
            "  File \"/tensorflow-1.15.2/python3.7/tensorflow/__init__.py\", line 44, in _load\n",
            "    module = _importlib.import_module(self.__name__)\n",
            "  File \"/usr/lib/python3.7/importlib/__init__.py\", line 127, in import_module\n",
            "    return _bootstrap._gcd_import(name[level:], package, level)\n",
            "  File \"<frozen importlib._bootstrap>\", line 1006, in _gcd_import\n",
            "  File \"<frozen importlib._bootstrap>\", line 983, in _find_and_load\n",
            "  File \"<frozen importlib._bootstrap>\", line 967, in _find_and_load_unlocked\n",
            "  File \"<frozen importlib._bootstrap>\", line 677, in _load_unlocked\n",
            "  File \"<frozen importlib._bootstrap_external>\", line 728, in exec_module\n",
            "  File \"<frozen importlib._bootstrap>\", line 219, in _call_with_frames_removed\n",
            "  File \"/tensorflow-1.15.2/python3.7/tensorflow_core/contrib/__init__.py\", line 108, in <module>\n",
            "    from tensorflow.contrib import cloud\n",
            "  File \"/tensorflow-1.15.2/python3.7/tensorflow_core/contrib/cloud/__init__.py\", line 24, in <module>\n",
            "    from tensorflow.contrib.cloud.python.ops.bigquery_reader_ops import *\n",
            "  File \"/tensorflow-1.15.2/python3.7/tensorflow_core/contrib/cloud/__init__.py\", line 28, in <module>\n",
            "    from tensorflow.contrib.bigtable.python.ops.bigtable_api import BigtableClient\n",
            "  File \"/tensorflow-1.15.2/python3.7/tensorflow_core/contrib/bigtable/__init__.py\", line 29, in <module>\n",
            "    from tensorflow.contrib.bigtable.python.ops.bigtable_api import BigtableClient\n",
            "  File \"/tensorflow-1.15.2/python3.7/tensorflow_core/contrib/bigtable/python/ops/bigtable_api.py\", line 44, in <module>\n",
            "    resource_loader.get_path_to_datafile(\"_bigtable.so\"))\n",
            "  File \"/tensorflow-1.15.2/python3.7/tensorflow_core/contrib/util/loader.py\", line 56, in load_op_library\n",
            "    ret = load_library.load_op_library(path)\n",
            "  File \"/tensorflow-1.15.2/python3.7/tensorflow_core/python/framework/load_library.py\", line 61, in load_op_library\n",
            "    lib_handle = py_tf.TF_LoadLibrary(library_filename)\n",
            "KeyboardInterrupt\n"
          ],
          "name": "stdout"
        },
        {
          "output_type": "error",
          "ename": "KeyboardInterrupt",
          "evalue": "ignored",
          "traceback": [
            "\u001b[0;31m---------------------------------------------------------------------------\u001b[0m"
          ]
        }
      ]
    },
    {
      "cell_type": "code",
      "metadata": {
        "id": "2M4OHy7_zKLh"
      },
      "source": [
        "results = model.evaluate(X_test, test_labels)\n"
      ],
      "execution_count": null,
      "outputs": []
    },
    {
      "cell_type": "code",
      "metadata": {
        "id": "vEt0xE4YzucK"
      },
      "source": [
        "print(results)"
      ],
      "execution_count": null,
      "outputs": []
    },
    {
      "cell_type": "code",
      "metadata": {
        "id": "0bNcujVR3luI"
      },
      "source": [
        "fig, ax1 = plt.subplots(figsize=(15, 5))\n",
        "ax1.plot(accuracy, 'b.-')\n",
        "ax1.set_ylabel('validation accuracy', color='b')\n",
        "ax1.set_ylim([0,100])\n",
        "ax2 = ax1.twinx()\n",
        "ax2.plot(loss, 'g.-')\n",
        "ax2.set_ylabel('training loss', color='g')\n",
        "plt.show()\n"
      ],
      "execution_count": null,
      "outputs": []
    },
    {
      "cell_type": "code",
      "metadata": {
        "id": "WNRiX3Pa3pBn"
      },
      "source": [
        "print('Time per step: {:.2f} ms'.format(t_step*1000))\n"
      ],
      "execution_count": null,
      "outputs": []
    },
    {
      "cell_type": "code",
      "metadata": {
        "id": "jz-jWqXcMZdo"
      },
      "source": [
        "print(len(accuracy))"
      ],
      "execution_count": null,
      "outputs": []
    },
    {
      "cell_type": "code",
      "metadata": {
        "id": "cN0zzJ9uPbuw"
      },
      "source": [
        "import pandas\n",
        "df = pandas.DataFrame(data={\"Loss\": loss, \"Accuracy\": accuracy})\n",
        "df.to_csv(\"./LA_Imag_NoFilter.csv\", sep=',',index=False)"
      ],
      "execution_count": null,
      "outputs": []
    },
    {
      "cell_type": "code",
      "metadata": {
        "id": "IT_Es2lFPkpB"
      },
      "source": [
        "!pwd"
      ],
      "execution_count": null,
      "outputs": []
    }
  ]
}