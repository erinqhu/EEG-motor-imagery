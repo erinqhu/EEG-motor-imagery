{
 "cells": [
  {
   "cell_type": "code",
   "execution_count": 1,
   "metadata": {},
   "outputs": [],
   "source": [
    "import numpy as np\n",
    "from sklearn import svm\n",
    "# from thundersvm import SVC\n",
    "from sklearn.decomposition import PCA\n",
    "# from sklearn.metrics import plot_confusion_matrix\n",
    "from sklearn.metrics import classification_report\n",
    "import matplotlib.pyplot as plt"
   ]
  },
  {
   "cell_type": "code",
   "execution_count": 2,
   "metadata": {},
   "outputs": [],
   "source": [
    "Xtr, ytr = np.load('Xtr_feature.npy'), np.load('ytr_feature.npy')\n",
    "Xval, yval = np.load('Xval_feature.npy'), np.load('yval_feature.npy')"
   ]
  },
  {
   "cell_type": "code",
   "execution_count": 4,
   "metadata": {},
   "outputs": [],
   "source": [
    "Ztr = Xtr.reshape(1800, -1)\n",
    "Zval = Xval.reshape(360, -1)"
   ]
  },
  {
   "cell_type": "code",
   "execution_count": 11,
   "metadata": {},
   "outputs": [
    {
     "name": "stdout",
     "output_type": "stream",
     "text": [
      "model acc: 0.5472\n"
     ]
    }
   ],
   "source": [
    "clf = svm.SVC(kernel='rbf', gamma='auto', C=1,\n",
    "              decision_function_shape='ovo').fit(Ztr, ytr)\n",
    "y_hat = clf.predict(Zval)\n",
    "acc = clf.score(Zval, yval)\n",
    "print('model acc: {:.4f}'.format(acc))"
   ]
  },
  {
   "cell_type": "code",
   "execution_count": 15,
   "metadata": {},
   "outputs": [
    {
     "name": "stdout",
     "output_type": "stream",
     "text": [
      "              precision    recall  f1-score   support\n",
      "\n",
      "       Task1     0.5333    0.5333    0.5333        90\n",
      "       Task2     0.5789    0.6111    0.5946        90\n",
      "       Task3     0.4951    0.5667    0.5285        90\n",
      "       Task4     0.5972    0.4778    0.5309        90\n",
      "\n",
      "    accuracy                         0.5472       360\n",
      "   macro avg     0.5512    0.5472    0.5468       360\n",
      "weighted avg     0.5512    0.5472    0.5468       360\n",
      "\n"
     ]
    }
   ],
   "source": [
    "target_names = ['Task1', 'Task2', 'Task3', 'Task4']\n",
    "print(classification_report(yval, y_hat, target_names=target_names, digits=4))"
   ]
  }
 ],
 "metadata": {
  "kernelspec": {
   "display_name": "Python 3",
   "language": "python",
   "name": "python3"
  },
  "language_info": {
   "codemirror_mode": {
    "name": "ipython",
    "version": 3
   },
   "file_extension": ".py",
   "mimetype": "text/x-python",
   "name": "python",
   "nbconvert_exporter": "python",
   "pygments_lexer": "ipython3",
   "version": "3.8.5"
  }
 },
 "nbformat": 4,
 "nbformat_minor": 4
}
