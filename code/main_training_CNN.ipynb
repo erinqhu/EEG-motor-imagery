{
 "cells": [
  {
   "cell_type": "code",
   "execution_count": 1,
   "id": "corporate-attention",
   "metadata": {},
   "outputs": [],
   "source": [
    "import tensorflow.compat.v1 as tf\n",
    "\n",
    "tf.config.set_soft_device_placement(True)\n",
    "# tf.debugging.set_log_device_placement(True)\n",
    "# from sklearn.metrics import confusion_matrix\n",
    "import numpy as np\n",
    "# from scipy.io import loadmat\n",
    "import os\n",
    "# from functools import reduce\n",
    "# from scipy import signal\n",
    "import pandas as pd\n",
    "# from sklearn.model_selection import train_test_split, StratifiedKFold\n",
    "from sklearn.preprocessing import StandardScaler, MinMaxScaler\n",
    "from tensorflow import keras as K\n",
    "from tensorflow.keras.layers import Add, Dense, Activation, Flatten, concatenate, Input, Dropout, LSTM, Conv2D, MaxPooling2D, Conv1D, MaxPooling1D, BatchNormalization, PReLU, ELU, ReLU\n",
    "from tensorflow.keras.models import Sequential, Model, load_model\n",
    "import matplotlib.pyplot as plt\n",
    "# import datetime\n",
    "# get_ipython().run_line_magic('load_ext', 'tensorboard')\n",
    "from tensorflow.keras.callbacks import EarlyStopping, ModelCheckpoint\n",
    "# get_ipython().run_line_magic('matplotlib', 'inline')\n",
    "# from collections import Counter \n",
    "np_load_old = np.load\n",
    "# from tensorflow.keras.utils import plot_model\n",
    "from tensorflow.keras.initializers import glorot_uniform\n",
    "# modify the default parameters of np.load\n",
    "np.load = lambda *a,**k: np_load_old(*a, allow_pickle=True, **k)\n",
    "np.random.seed(42)\n",
    "tf.set_random_seed(42)\n",
    "from sklearn.metrics import classification_report\n",
    "import argparse\n",
    "import h5py\n",
    "\n",
    "from sklearn.metrics import classification_report\n",
    "from sklearn.metrics import confusion_matrix\n",
    "import itertools"
   ]
  },
  {
   "cell_type": "code",
   "execution_count": 2,
   "id": "hybrid-reform",
   "metadata": {},
   "outputs": [],
   "source": [
    "def plot_confusion_matrix(cm, classes, normalize=False, title='Confusion matrix', cmap=plt.cm.Blues):\n",
    "    if normalize:\n",
    "        cm = cm.astype('float') / cm.sum(axis=1)[:, np.newaxis]\n",
    "        print(\"Normalized confusion matrix\")\n",
    "    else:\n",
    "        print('Confusion matrix, without normalization')\n",
    "\n",
    "    print(cm)\n",
    "    plt.figure(figsize=(15,10))\n",
    "    plt.imshow(cm, interpolation='nearest', cmap=cmap)\n",
    "    plt.title(title, fontsize=36)\n",
    "    tick_marks = np.arange(len(classes))\n",
    "    plt.xticks(tick_marks, classes, rotation=45, fontsize=30)\n",
    "    plt.yticks(tick_marks, classes, fontsize=30)\n",
    "\n",
    "    fmt = '.2f' if normalize else 'd'\n",
    "    thresh = cm.max() / 2.\n",
    "    for i, j in itertools.product(range(cm.shape[0]), range(cm.shape[1])):\n",
    "        plt.text(j, i, format(cm[i, j], fmt), horizontalalignment=\"center\",\n",
    "                 color=\"white\" if cm[i, j] > thresh else \"black\", fontsize=28)\n",
    "\n",
    "    plt.tight_layout()\n",
    "    plt.ylabel('True label', fontsize=30)\n",
    "    plt.xlabel('Predicted label', fontsize=30)"
   ]
  },
  {
   "cell_type": "markdown",
   "id": "married-secondary",
   "metadata": {},
   "source": [
    "## Load in data"
   ]
  },
  {
   "cell_type": "code",
   "execution_count": 3,
   "id": "aggregate-samoa",
   "metadata": {},
   "outputs": [],
   "source": [
    "# load new train, validation, and test datasets\n",
    "loadPath = '/scratch/qh503/deepLearningProject/data_h5/'\n",
    "bestModel = '/scratch/qh503/deepLearningProject/models/baseline_tr1800-val360ts_2CNN.pth'\n",
    "\n",
    "f_train = h5py.File(os.path.join(loadPath, \"train1800_raw_EEG.h5\"), \"r\")\n",
    "tr_data = f_train['data'][:]\n",
    "ytr = f_train['tasks'][:]\n",
    "tr_subjects = f_train['subjects'][:]\n",
    "\n",
    "f_valid = h5py.File(os.path.join(loadPath, \"valid360_raw_EEG.h5\"), \"r\")\n",
    "val_data = f_valid['data'][:]\n",
    "yval = f_valid['tasks'][:]\n",
    "val_subjects = f_valid['subjects'][:]\n",
    "\n",
    "f_test = h5py.File(os.path.join(loadPath, \"test360_raw_EEG.h5\"), \"r\")\n",
    "ts_data = f_test['data'][:]\n",
    "yts = f_test['tasks'][:]\n",
    "ts_subjects = f_test['subjects'][:]"
   ]
  },
  {
   "cell_type": "markdown",
   "id": "clean-rating",
   "metadata": {},
   "source": [
    "## Normalization"
   ]
  },
  {
   "cell_type": "code",
   "execution_count": 4,
   "id": "corporate-scenario",
   "metadata": {},
   "outputs": [
    {
     "name": "stdout",
     "output_type": "stream",
     "text": [
      "(1152000, 64)\n",
      "(230400, 64)\n",
      "(230400, 64)\n",
      "(1800, 640, 64)\n",
      "(360, 640, 64)\n",
      "(360, 640, 64)\n"
     ]
    }
   ],
   "source": [
    "# flatten and reshape data\n",
    "xtr_s_flattened = np.squeeze(tr_data).ravel().reshape((-1, 64))\n",
    "xval_s_flattened = np.squeeze(val_data).ravel().reshape((-1, 64))\n",
    "xts_s_flattened = np.squeeze(ts_data).ravel().reshape((-1, 64))\n",
    "print(xtr_s_flattened.shape)\n",
    "print(xval_s_flattened.shape)\n",
    "print(xts_s_flattened.shape)\n",
    "\n",
    "# normalize data\n",
    "scaler = StandardScaler()\n",
    "Ztr_temp = scaler.fit_transform(xtr_s_flattened)\n",
    "Zval_temp = scaler.transform(xval_s_flattened)\n",
    "Zts_temp = scaler.transform(xts_s_flattened)\n",
    "\n",
    "# flatten and reshape data back\n",
    "Ztr = np.squeeze(Ztr_temp).ravel().reshape((-1, 640, 64))\n",
    "Zval = np.squeeze(Zval_temp).ravel().reshape((-1, 640, 64))\n",
    "Zts = np.squeeze(Zts_temp).ravel().reshape((-1, 640, 64))\n",
    "print(Ztr.shape)\n",
    "print(Zval.shape)\n",
    "print(Zts.shape)"
   ]
  },
  {
   "cell_type": "code",
   "execution_count": 5,
   "id": "infectious-optics",
   "metadata": {},
   "outputs": [],
   "source": [
    "x_train = Ztr\n",
    "x_valid = Zval\n",
    "x_test = Zts\n",
    "y_train = pd.get_dummies(ytr).values\n",
    "y_valid = pd.get_dummies(yval).values\n",
    "y_test = pd.get_dummies(yts).values"
   ]
  },
  {
   "cell_type": "markdown",
   "id": "premier-avatar",
   "metadata": {},
   "source": [
    "## Model architecture"
   ]
  },
  {
   "cell_type": "code",
   "execution_count": 6,
   "id": "changing-cargo",
   "metadata": {},
   "outputs": [
    {
     "name": "stdout",
     "output_type": "stream",
     "text": [
      "INFO:tensorflow:Using MirroredStrategy with devices ('/job:localhost/replica:0/task:0/device:GPU:0',)\n",
      "Number of devices: 1\n"
     ]
    }
   ],
   "source": [
    "strategy = tf.distribute.MirroredStrategy()\n",
    "print('Number of devices: {}'.format(strategy.num_replicas_in_sync))"
   ]
  },
  {
   "cell_type": "code",
   "execution_count": 7,
   "id": "continental-benchmark",
   "metadata": {},
   "outputs": [
    {
     "name": "stdout",
     "output_type": "stream",
     "text": [
      "INFO:tensorflow:Reduce to /job:localhost/replica:0/task:0/device:CPU:0 then broadcast to ('/job:localhost/replica:0/task:0/device:CPU:0',).\n",
      "INFO:tensorflow:Reduce to /job:localhost/replica:0/task:0/device:CPU:0 then broadcast to ('/job:localhost/replica:0/task:0/device:CPU:0',).\n",
      "INFO:tensorflow:Reduce to /job:localhost/replica:0/task:0/device:CPU:0 then broadcast to ('/job:localhost/replica:0/task:0/device:CPU:0',).\n",
      "INFO:tensorflow:Reduce to /job:localhost/replica:0/task:0/device:CPU:0 then broadcast to ('/job:localhost/replica:0/task:0/device:CPU:0',).\n",
      "INFO:tensorflow:Reduce to /job:localhost/replica:0/task:0/device:CPU:0 then broadcast to ('/job:localhost/replica:0/task:0/device:CPU:0',).\n",
      "INFO:tensorflow:Reduce to /job:localhost/replica:0/task:0/device:CPU:0 then broadcast to ('/job:localhost/replica:0/task:0/device:CPU:0',).\n",
      "INFO:tensorflow:Reduce to /job:localhost/replica:0/task:0/device:CPU:0 then broadcast to ('/job:localhost/replica:0/task:0/device:CPU:0',).\n",
      "INFO:tensorflow:Reduce to /job:localhost/replica:0/task:0/device:CPU:0 then broadcast to ('/job:localhost/replica:0/task:0/device:CPU:0',).\n",
      "INFO:tensorflow:Reduce to /job:localhost/replica:0/task:0/device:CPU:0 then broadcast to ('/job:localhost/replica:0/task:0/device:CPU:0',).\n",
      "INFO:tensorflow:Reduce to /job:localhost/replica:0/task:0/device:CPU:0 then broadcast to ('/job:localhost/replica:0/task:0/device:CPU:0',).\n",
      "Model: \"model\"\n",
      "_________________________________________________________________\n",
      "Layer (type)                 Output Shape              Param #   \n",
      "=================================================================\n",
      "input_1 (InputLayer)         [(None, 640, 64, 1)]      0         \n",
      "_________________________________________________________________\n",
      "conv2d (Conv2D)              (None, 313, 56, 8)        1088      \n",
      "_________________________________________________________________\n",
      "batch_normalization (BatchNo (None, 313, 56, 8)        32        \n",
      "_________________________________________________________________\n",
      "p_re_lu (PReLU)              (None, 313, 56, 8)        140224    \n",
      "_________________________________________________________________\n",
      "max_pooling2d (MaxPooling2D) (None, 156, 28, 8)        0         \n",
      "_________________________________________________________________\n",
      "conv2d_1 (Conv2D)            (None, 71, 20, 16)        17296     \n",
      "_________________________________________________________________\n",
      "batch_normalization_1 (Batch (None, 71, 20, 16)        64        \n",
      "_________________________________________________________________\n",
      "p_re_lu_1 (PReLU)            (None, 71, 20, 16)        22720     \n",
      "_________________________________________________________________\n",
      "flatten (Flatten)            (None, 22720)             0         \n",
      "_________________________________________________________________\n",
      "dense (Dense)                (None, 16)                363536    \n",
      "_________________________________________________________________\n",
      "dropout (Dropout)            (None, 16)                0         \n",
      "_________________________________________________________________\n",
      "dense_1 (Dense)              (None, 4)                 68        \n",
      "=================================================================\n",
      "Total params: 545,028\n",
      "Trainable params: 544,980\n",
      "Non-trainable params: 48\n",
      "_________________________________________________________________\n",
      "None\n"
     ]
    }
   ],
   "source": [
    "with strategy.scope():\n",
    "    nodes = 640\n",
    "    inputs = Input(shape=(nodes, 64, 1))\n",
    "\n",
    "    conv1 = Conv2D(8, (15,9), strides=(2,1), kernel_initializer = glorot_uniform(seed=42))(inputs)\n",
    "    batch1 = BatchNormalization()(conv1)\n",
    "    prelu1 = PReLU()(batch1)\n",
    "    maxpool1 = MaxPooling2D((2,2))(prelu1)\n",
    "    conv2 = Conv2D(16, (15,9), strides=(2,1), kernel_initializer = glorot_uniform(seed=42))(maxpool1)\n",
    "    batch2 = BatchNormalization()(conv2)\n",
    "    prelu2 = PReLU()(batch2)\n",
    "    # maxpool2 = MaxPooling2D((5,1))(prelu2)\n",
    "\n",
    "    flat = Flatten()(prelu2)\n",
    "    dense1 = Dense(16, activation='sigmoid', kernel_initializer = glorot_uniform(seed=42))(flat)\n",
    "    drop1 = Dropout(0.2)(dense1)\n",
    "    predictions = Dense(4, activation='softmax', kernel_initializer = glorot_uniform(seed=42))(drop1)\n",
    "    model = Model(inputs=inputs,outputs=predictions)\n",
    "print(model.summary())"
   ]
  },
  {
   "cell_type": "code",
   "execution_count": 8,
   "id": "democratic-calcium",
   "metadata": {},
   "outputs": [],
   "source": [
    "opt_adam = K.optimizers.Adam(lr=0.0001, beta_1=0.9, beta_2=0.999, epsilon=1e-08, decay=0.0)\n",
    "with strategy.scope():\n",
    "    model.compile(loss='categorical_crossentropy' , optimizer=opt_adam, metrics=['categorical_accuracy'])\n",
    "es = EarlyStopping(monitor='val_categorical_accuracy', mode='max', verbose=1, patience=30)\n",
    "mc = ModelCheckpoint(bestModel, monitor='val_categorical_accuracy', mode='max', verbose=1, save_best_only=True)"
   ]
  },
  {
   "cell_type": "code",
   "execution_count": 9,
   "id": "native-lodge",
   "metadata": {},
   "outputs": [
    {
     "name": "stdout",
     "output_type": "stream",
     "text": [
      "Epoch 1/300\n",
      "57/57 [==============================] - 7s 40ms/step - loss: 1.4184 - categorical_accuracy: 0.2906 - val_loss: 1.3738 - val_categorical_accuracy: 0.2917\n",
      "\n",
      "Epoch 00001: val_categorical_accuracy improved from -inf to 0.29167, saving model to /scratch/qh503/deepLearningProject/models/baseline_tr1800-val360ts_2CNN.pth\n",
      "INFO:tensorflow:Assets written to: /scratch/qh503/deepLearningProject/models/baseline_tr1800-val360ts_2CNN.pth/assets\n",
      "Epoch 2/300\n",
      "57/57 [==============================] - 1s 12ms/step - loss: 1.3272 - categorical_accuracy: 0.3701 - val_loss: 1.3539 - val_categorical_accuracy: 0.3694\n",
      "\n",
      "Epoch 00002: val_categorical_accuracy improved from 0.29167 to 0.36944, saving model to /scratch/qh503/deepLearningProject/models/baseline_tr1800-val360ts_2CNN.pth\n",
      "INFO:tensorflow:Assets written to: /scratch/qh503/deepLearningProject/models/baseline_tr1800-val360ts_2CNN.pth/assets\n",
      "Epoch 3/300\n",
      "57/57 [==============================] - 1s 12ms/step - loss: 1.2271 - categorical_accuracy: 0.4618 - val_loss: 1.3272 - val_categorical_accuracy: 0.3306\n",
      "\n",
      "Epoch 00003: val_categorical_accuracy did not improve from 0.36944\n",
      "Epoch 4/300\n",
      "57/57 [==============================] - 1s 12ms/step - loss: 1.1596 - categorical_accuracy: 0.5044 - val_loss: 1.3028 - val_categorical_accuracy: 0.3917\n",
      "\n",
      "Epoch 00004: val_categorical_accuracy improved from 0.36944 to 0.39167, saving model to /scratch/qh503/deepLearningProject/models/baseline_tr1800-val360ts_2CNN.pth\n",
      "INFO:tensorflow:Assets written to: /scratch/qh503/deepLearningProject/models/baseline_tr1800-val360ts_2CNN.pth/assets\n",
      "Epoch 5/300\n",
      "57/57 [==============================] - 1s 12ms/step - loss: 1.0741 - categorical_accuracy: 0.5661 - val_loss: 1.2742 - val_categorical_accuracy: 0.4167\n",
      "\n",
      "Epoch 00005: val_categorical_accuracy improved from 0.39167 to 0.41667, saving model to /scratch/qh503/deepLearningProject/models/baseline_tr1800-val360ts_2CNN.pth\n",
      "INFO:tensorflow:Assets written to: /scratch/qh503/deepLearningProject/models/baseline_tr1800-val360ts_2CNN.pth/assets\n",
      "Epoch 6/300\n",
      "57/57 [==============================] - 1s 12ms/step - loss: 0.9958 - categorical_accuracy: 0.6362 - val_loss: 1.2494 - val_categorical_accuracy: 0.4444\n",
      "\n",
      "Epoch 00006: val_categorical_accuracy improved from 0.41667 to 0.44444, saving model to /scratch/qh503/deepLearningProject/models/baseline_tr1800-val360ts_2CNN.pth\n",
      "INFO:tensorflow:Assets written to: /scratch/qh503/deepLearningProject/models/baseline_tr1800-val360ts_2CNN.pth/assets\n",
      "Epoch 7/300\n",
      "57/57 [==============================] - 1s 12ms/step - loss: 0.9064 - categorical_accuracy: 0.7116 - val_loss: 1.2434 - val_categorical_accuracy: 0.4472\n",
      "\n",
      "Epoch 00007: val_categorical_accuracy improved from 0.44444 to 0.44722, saving model to /scratch/qh503/deepLearningProject/models/baseline_tr1800-val360ts_2CNN.pth\n",
      "INFO:tensorflow:Assets written to: /scratch/qh503/deepLearningProject/models/baseline_tr1800-val360ts_2CNN.pth/assets\n",
      "Epoch 8/300\n",
      "57/57 [==============================] - 1s 12ms/step - loss: 0.8552 - categorical_accuracy: 0.7189 - val_loss: 1.2442 - val_categorical_accuracy: 0.4528\n",
      "\n",
      "Epoch 00008: val_categorical_accuracy improved from 0.44722 to 0.45278, saving model to /scratch/qh503/deepLearningProject/models/baseline_tr1800-val360ts_2CNN.pth\n",
      "INFO:tensorflow:Assets written to: /scratch/qh503/deepLearningProject/models/baseline_tr1800-val360ts_2CNN.pth/assets\n",
      "Epoch 9/300\n",
      "57/57 [==============================] - 1s 12ms/step - loss: 0.7962 - categorical_accuracy: 0.7649 - val_loss: 1.2289 - val_categorical_accuracy: 0.4611\n",
      "\n",
      "Epoch 00009: val_categorical_accuracy improved from 0.45278 to 0.46111, saving model to /scratch/qh503/deepLearningProject/models/baseline_tr1800-val360ts_2CNN.pth\n",
      "INFO:tensorflow:Assets written to: /scratch/qh503/deepLearningProject/models/baseline_tr1800-val360ts_2CNN.pth/assets\n",
      "Epoch 10/300\n",
      "57/57 [==============================] - 1s 12ms/step - loss: 0.7634 - categorical_accuracy: 0.7906 - val_loss: 1.2347 - val_categorical_accuracy: 0.4528\n",
      "\n",
      "Epoch 00010: val_categorical_accuracy did not improve from 0.46111\n",
      "Epoch 11/300\n",
      "57/57 [==============================] - 1s 12ms/step - loss: 0.7256 - categorical_accuracy: 0.8114 - val_loss: 1.2400 - val_categorical_accuracy: 0.4417\n",
      "\n",
      "Epoch 00011: val_categorical_accuracy did not improve from 0.46111\n",
      "Epoch 12/300\n",
      "57/57 [==============================] - 1s 12ms/step - loss: 0.6591 - categorical_accuracy: 0.8396 - val_loss: 1.2354 - val_categorical_accuracy: 0.4583\n",
      "\n",
      "Epoch 00012: val_categorical_accuracy did not improve from 0.46111\n",
      "Epoch 13/300\n",
      "57/57 [==============================] - 1s 12ms/step - loss: 0.6363 - categorical_accuracy: 0.8594 - val_loss: 1.2383 - val_categorical_accuracy: 0.4556\n",
      "\n",
      "Epoch 00013: val_categorical_accuracy did not improve from 0.46111\n",
      "Epoch 14/300\n",
      "57/57 [==============================] - 1s 12ms/step - loss: 0.6042 - categorical_accuracy: 0.8810 - val_loss: 1.2509 - val_categorical_accuracy: 0.4556\n",
      "\n",
      "Epoch 00014: val_categorical_accuracy did not improve from 0.46111\n",
      "Epoch 15/300\n",
      "57/57 [==============================] - 1s 12ms/step - loss: 0.5517 - categorical_accuracy: 0.9084 - val_loss: 1.2490 - val_categorical_accuracy: 0.4500\n",
      "\n",
      "Epoch 00015: val_categorical_accuracy did not improve from 0.46111\n",
      "Epoch 16/300\n",
      "57/57 [==============================] - 1s 12ms/step - loss: 0.5251 - categorical_accuracy: 0.9026 - val_loss: 1.2549 - val_categorical_accuracy: 0.4472\n",
      "\n",
      "Epoch 00016: val_categorical_accuracy did not improve from 0.46111\n",
      "Epoch 17/300\n",
      "57/57 [==============================] - 1s 12ms/step - loss: 0.4959 - categorical_accuracy: 0.9230 - val_loss: 1.2560 - val_categorical_accuracy: 0.4528\n",
      "\n",
      "Epoch 00017: val_categorical_accuracy did not improve from 0.46111\n",
      "Epoch 18/300\n",
      "57/57 [==============================] - 1s 12ms/step - loss: 0.4811 - categorical_accuracy: 0.9401 - val_loss: 1.2667 - val_categorical_accuracy: 0.4472\n",
      "\n",
      "Epoch 00018: val_categorical_accuracy did not improve from 0.46111\n",
      "Epoch 19/300\n",
      "57/57 [==============================] - 1s 12ms/step - loss: 0.4470 - categorical_accuracy: 0.9429 - val_loss: 1.2593 - val_categorical_accuracy: 0.4250\n",
      "\n",
      "Epoch 00019: val_categorical_accuracy did not improve from 0.46111\n",
      "Epoch 20/300\n",
      "57/57 [==============================] - 1s 12ms/step - loss: 0.4319 - categorical_accuracy: 0.9479 - val_loss: 1.2835 - val_categorical_accuracy: 0.4611\n",
      "\n",
      "Epoch 00020: val_categorical_accuracy did not improve from 0.46111\n",
      "Epoch 21/300\n",
      "57/57 [==============================] - 1s 12ms/step - loss: 0.3926 - categorical_accuracy: 0.9600 - val_loss: 1.2740 - val_categorical_accuracy: 0.4417\n",
      "\n",
      "Epoch 00021: val_categorical_accuracy did not improve from 0.46111\n",
      "Epoch 22/300\n",
      "57/57 [==============================] - 1s 12ms/step - loss: 0.3798 - categorical_accuracy: 0.9677 - val_loss: 1.2784 - val_categorical_accuracy: 0.4444\n",
      "\n",
      "Epoch 00022: val_categorical_accuracy did not improve from 0.46111\n",
      "Epoch 23/300\n",
      "57/57 [==============================] - 1s 12ms/step - loss: 0.3589 - categorical_accuracy: 0.9698 - val_loss: 1.2881 - val_categorical_accuracy: 0.4250\n",
      "\n",
      "Epoch 00023: val_categorical_accuracy did not improve from 0.46111\n",
      "Epoch 24/300\n",
      "57/57 [==============================] - 1s 12ms/step - loss: 0.3397 - categorical_accuracy: 0.9793 - val_loss: 1.2919 - val_categorical_accuracy: 0.4278\n",
      "\n",
      "Epoch 00024: val_categorical_accuracy did not improve from 0.46111\n",
      "Epoch 25/300\n",
      "57/57 [==============================] - 1s 12ms/step - loss: 0.3181 - categorical_accuracy: 0.9810 - val_loss: 1.2927 - val_categorical_accuracy: 0.4278\n",
      "\n",
      "Epoch 00025: val_categorical_accuracy did not improve from 0.46111\n",
      "Epoch 26/300\n",
      "57/57 [==============================] - 1s 12ms/step - loss: 0.3164 - categorical_accuracy: 0.9835 - val_loss: 1.3131 - val_categorical_accuracy: 0.4389\n",
      "\n",
      "Epoch 00026: val_categorical_accuracy did not improve from 0.46111\n",
      "Epoch 27/300\n",
      "57/57 [==============================] - 1s 12ms/step - loss: 0.2946 - categorical_accuracy: 0.9859 - val_loss: 1.3165 - val_categorical_accuracy: 0.4250\n",
      "\n",
      "Epoch 00027: val_categorical_accuracy did not improve from 0.46111\n",
      "Epoch 28/300\n",
      "57/57 [==============================] - 1s 12ms/step - loss: 0.2841 - categorical_accuracy: 0.9834 - val_loss: 1.3087 - val_categorical_accuracy: 0.4306\n"
     ]
    },
    {
     "name": "stdout",
     "output_type": "stream",
     "text": [
      "\n",
      "Epoch 00028: val_categorical_accuracy did not improve from 0.46111\n",
      "Epoch 29/300\n",
      "57/57 [==============================] - 1s 12ms/step - loss: 0.2670 - categorical_accuracy: 0.9856 - val_loss: 1.3191 - val_categorical_accuracy: 0.4111\n",
      "\n",
      "Epoch 00029: val_categorical_accuracy did not improve from 0.46111\n",
      "Epoch 30/300\n",
      "57/57 [==============================] - 1s 12ms/step - loss: 0.2609 - categorical_accuracy: 0.9846 - val_loss: 1.3146 - val_categorical_accuracy: 0.4250\n",
      "\n",
      "Epoch 00030: val_categorical_accuracy did not improve from 0.46111\n",
      "Epoch 31/300\n",
      "57/57 [==============================] - 1s 12ms/step - loss: 0.2499 - categorical_accuracy: 0.9895 - val_loss: 1.3182 - val_categorical_accuracy: 0.4278\n",
      "\n",
      "Epoch 00031: val_categorical_accuracy did not improve from 0.46111\n",
      "Epoch 32/300\n",
      "57/57 [==============================] - 1s 12ms/step - loss: 0.2375 - categorical_accuracy: 0.9894 - val_loss: 1.3371 - val_categorical_accuracy: 0.4361\n",
      "\n",
      "Epoch 00032: val_categorical_accuracy did not improve from 0.46111\n",
      "Epoch 33/300\n",
      "57/57 [==============================] - 1s 12ms/step - loss: 0.2199 - categorical_accuracy: 0.9889 - val_loss: 1.3436 - val_categorical_accuracy: 0.4083\n",
      "\n",
      "Epoch 00033: val_categorical_accuracy did not improve from 0.46111\n",
      "Epoch 34/300\n",
      "57/57 [==============================] - 1s 12ms/step - loss: 0.2221 - categorical_accuracy: 0.9910 - val_loss: 1.3395 - val_categorical_accuracy: 0.4222\n",
      "\n",
      "Epoch 00034: val_categorical_accuracy did not improve from 0.46111\n",
      "Epoch 35/300\n",
      "57/57 [==============================] - 1s 12ms/step - loss: 0.2109 - categorical_accuracy: 0.9920 - val_loss: 1.3512 - val_categorical_accuracy: 0.4306\n",
      "\n",
      "Epoch 00035: val_categorical_accuracy did not improve from 0.46111\n",
      "Epoch 36/300\n",
      "57/57 [==============================] - 1s 12ms/step - loss: 0.1950 - categorical_accuracy: 0.9906 - val_loss: 1.3479 - val_categorical_accuracy: 0.4222\n",
      "\n",
      "Epoch 00036: val_categorical_accuracy did not improve from 0.46111\n",
      "Epoch 37/300\n",
      "57/57 [==============================] - 1s 12ms/step - loss: 0.1963 - categorical_accuracy: 0.9939 - val_loss: 1.3581 - val_categorical_accuracy: 0.4222\n",
      "\n",
      "Epoch 00037: val_categorical_accuracy did not improve from 0.46111\n",
      "Epoch 38/300\n",
      "57/57 [==============================] - 1s 12ms/step - loss: 0.1851 - categorical_accuracy: 0.9952 - val_loss: 1.3666 - val_categorical_accuracy: 0.4250\n",
      "\n",
      "Epoch 00038: val_categorical_accuracy did not improve from 0.46111\n",
      "Epoch 39/300\n",
      "57/57 [==============================] - 1s 12ms/step - loss: 0.1904 - categorical_accuracy: 0.9937 - val_loss: 1.3793 - val_categorical_accuracy: 0.4278\n",
      "\n",
      "Epoch 00039: val_categorical_accuracy did not improve from 0.46111\n",
      "Epoch 00039: early stopping\n"
     ]
    }
   ],
   "source": [
    "history = model.fit(x=x_train, y=y_train, epochs=300, shuffle=True,\n",
    "                    verbose=1, validation_data = (x_valid, y_valid), callbacks=[es, mc])"
   ]
  },
  {
   "cell_type": "markdown",
   "id": "informational-lindsay",
   "metadata": {},
   "source": [
    "## Model testing"
   ]
  },
  {
   "cell_type": "code",
   "execution_count": 10,
   "id": "closing-stylus",
   "metadata": {},
   "outputs": [
    {
     "name": "stdout",
     "output_type": "stream",
     "text": [
      "test acc: 41.67%\n"
     ]
    }
   ],
   "source": [
    "best_model = tf.keras.models.load_model(bestModel)\n",
    "yhat = np.argmax(model.predict(x_test), axis=1)\n",
    "ytrue = np.argmax(y_test, axis=1)\n",
    "print('test acc: {:.2f}%'.format(np.sum(yhat == ytrue) / yts.shape[0] * 100))"
   ]
  },
  {
   "cell_type": "code",
   "execution_count": 11,
   "id": "massive-afghanistan",
   "metadata": {},
   "outputs": [
    {
     "name": "stdout",
     "output_type": "stream",
     "text": [
      "                              precision    recall  f1-score   support\n",
      "\n",
      "               open one hand     0.4270    0.4222    0.4246        90\n",
      "       imagine open one hand     0.3684    0.3111    0.3373        90\n",
      "        open both hands/feet     0.4815    0.4333    0.4561        90\n",
      "imagine open both hands/feet     0.3947    0.5000    0.4412        90\n",
      "\n",
      "                    accuracy                         0.4167       360\n",
      "                   macro avg     0.4179    0.4167    0.4148       360\n",
      "                weighted avg     0.4179    0.4167    0.4148       360\n",
      "\n"
     ]
    }
   ],
   "source": [
    "target_names = ['open one hand', 'imagine open one hand', 'open both hands/feet', 'imagine open both hands/feet']\n",
    "print(classification_report(ytrue, yhat, target_names=target_names, digits=4))"
   ]
  },
  {
   "cell_type": "code",
   "execution_count": 12,
   "id": "arabic-radius",
   "metadata": {},
   "outputs": [
    {
     "data": {
      "text/plain": [
       "array([[38, 19, 16, 17],\n",
       "       [26, 28, 12, 24],\n",
       "       [15,  8, 39, 28],\n",
       "       [10, 21, 14, 45]])"
      ]
     },
     "execution_count": 12,
     "metadata": {},
     "output_type": "execute_result"
    }
   ],
   "source": [
    "cm = confusion_matrix(ytrue, yhat)\n",
    "cm"
   ]
  },
  {
   "cell_type": "code",
   "execution_count": 13,
   "id": "burning-pontiac",
   "metadata": {},
   "outputs": [
    {
     "name": "stdout",
     "output_type": "stream",
     "text": [
      "Normalized confusion matrix\n",
      "[[0.42222222 0.21111111 0.17777778 0.18888889]\n",
      " [0.28888889 0.31111111 0.13333333 0.26666667]\n",
      " [0.16666667 0.08888889 0.43333333 0.31111111]\n",
      " [0.11111111 0.23333333 0.15555556 0.5       ]]\n"
     ]
    },
    {
     "data": {
      "image/png": "[encoded data removed]",
      "text/plain": [
       "<Figure size 1080x720 with 1 Axes>"
      ]
     },
     "metadata": {
      "needs_background": "light"
     },
     "output_type": "display_data"
    }
   ],
   "source": [
    "plot_confusion_matrix(cm, ['Task1', 'Task2', 'Task3', 'Task4'], normalize=True, title='Confusion matrix', cmap=plt.cm.Greys)"
   ]
  }
 ],
 "metadata": {
  "kernelspec": {
   "display_name": "Python 3",
   "language": "python",
   "name": "python3"
  },
  "language_info": {
   "codemirror_mode": {
    "name": "ipython",
    "version": 3
   },
   "file_extension": ".py",
   "mimetype": "text/x-python",
   "name": "python",
   "nbconvert_exporter": "python",
   "pygments_lexer": "ipython3",
   "version": "3.8.5"
  }
 },
 "nbformat": 4,
 "nbformat_minor": 5
}
