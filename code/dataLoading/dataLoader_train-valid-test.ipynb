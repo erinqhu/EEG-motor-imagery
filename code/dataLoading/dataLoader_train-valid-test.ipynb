{
 "cells": [
  {
   "cell_type": "code",
   "execution_count": 1,
   "metadata": {
    "id": "0-fRl09mRu_U"
   },
   "outputs": [],
   "source": [
    "import numpy as np\n",
    "import pandas as pd\n",
    "import h5py\n",
    "import os\n",
    "from scipy.stats import skew, kurtosis\n",
    "from scipy import signal, stats\n",
    "from sklearn.preprocessing import StandardScaler\n",
    "import matplotlib.pyplot as plt"
   ]
  },
  {
   "cell_type": "code",
   "execution_count": 2,
   "metadata": {
    "id": "bGv7-qVSSKbO"
   },
   "outputs": [],
   "source": [
    "path = '/scratch/qh503/deepLearningProject/data_h5/'"
   ]
  },
  {
   "cell_type": "code",
   "execution_count": 3,
   "metadata": {
    "id": "IQafBEnPSsYO"
   },
   "outputs": [],
   "source": [
    "data_dict = h5py.File(os.path.join(path, \"raw_EEG.h5\"), \"r\")\n",
    "data = data_dict['data'][:]\n",
    "tasks = data_dict['tasks'][:]\n",
    "reps = data_dict['reps'][:]\n",
    "trials = data_dict['trials'][:]\n",
    "trial_reps = data_dict['trial_reps'][:]\n",
    "subjects = data_dict['subjects'][:]"
   ]
  },
  {
   "cell_type": "code",
   "execution_count": 4,
   "metadata": {
    "id": "GvLD1_XL6QI2"
   },
   "outputs": [],
   "source": [
    "# train-valid-test split: # about 72-14-14\n",
    "np.random.seed(42)\n",
    "which_trial_reps = np.unique(trial_reps)\n",
    "tr_trial_reps = np.random.choice(which_trial_reps, 5, replace=False)\n",
    "val_trial_reps = 4\n",
    "ts_trial_reps = 7\n",
    "\n",
    "tr_ind = np.where((trial_reps == 1) | (trial_reps == 2) | (trial_reps == 3) | (trial_reps == 5) | (trial_reps == 6))[0]\n",
    "val_ind = np.where(trial_reps == val_trial_reps)[0]\n",
    "ts_ind = np.where(trial_reps == ts_trial_reps)[0]\n",
    "\n",
    "tr_data, tr_tasks = data[tr_ind], tasks[tr_ind]\n",
    "val_data, val_tasks = data[val_ind], tasks[val_ind]\n",
    "ts_data, ts_tasks = data[ts_ind], tasks[ts_ind]"
   ]
  },
  {
   "cell_type": "code",
   "execution_count": 5,
   "metadata": {},
   "outputs": [],
   "source": [
    "# Xtr, ytr = tr_data, tr_tasks\n",
    "# Xval, yval = val_data, val_tasks\n",
    "# Xts, yts = ts_data, ts_tasks\n",
    "\n",
    "# test on small amount of data\n",
    "Xtr, ytr = tr_data[np.where(subjects[tr_ind] <= 15)[0]], tr_tasks[np.where(subjects[tr_ind] <= 15)[0]]\n",
    "Xval, yval = val_data[np.where(subjects[val_ind] <= 15)[0]], val_tasks[np.where(subjects[val_ind] <= 15)[0]]\n",
    "Xts, yts = ts_data[np.where(subjects[ts_ind] <= 15)[0]], ts_tasks[np.where(subjects[ts_ind] <= 15)[0]]\n",
    "tr_subjects = subjects[tr_ind][np.where(subjects[tr_ind] <= 15)[0]]\n",
    "val_subjects = subjects[val_ind][np.where(subjects[val_ind] <= 15)[0]]\n",
    "ts_subjects = subjects[ts_ind][np.where(subjects[ts_ind] <= 15)[0]]"
   ]
  },
  {
   "cell_type": "code",
   "execution_count": 6,
   "metadata": {},
   "outputs": [
    {
     "name": "stdout",
     "output_type": "stream",
     "text": [
      "(1800, 640, 64)   (1800,)\n",
      "(360, 640, 64)   (360,)\n",
      "(360, 640, 64)   (360,)\n"
     ]
    }
   ],
   "source": [
    "print(Xtr.shape, ' ', ytr.shape)\n",
    "print(Xval.shape, ' ', yval.shape)\n",
    "print(Xts.shape, ' ', yts.shape)"
   ]
  },
  {
   "cell_type": "code",
   "execution_count": 7,
   "metadata": {},
   "outputs": [],
   "source": [
    "f_train = h5py.File(os.path.join(path, 'train1800_raw_EEG.h5'), 'w')\n",
    "f_train.create_dataset('data', data=Xtr)\n",
    "f_train.create_dataset('tasks', data=ytr)\n",
    "f_train.create_dataset('subjects', data=tr_subjects)\n",
    "\n",
    "f_valid = h5py.File(os.path.join(path, 'valid360_raw_EEG.h5'), 'w')\n",
    "f_valid.create_dataset('data', data=Xval)\n",
    "f_valid.create_dataset('tasks', data=yval)\n",
    "f_valid.create_dataset('subjects', data=val_subjects)\n",
    "\n",
    "f_test = h5py.File(os.path.join(path, 'test360_raw_EEG.h5'), 'w')\n",
    "f_test.create_dataset('data', data=Xts)\n",
    "f_test.create_dataset('tasks', data=yts)\n",
    "f_test.create_dataset('subjects', data=ts_subjects)\n",
    "\n",
    "f_train.close()\n",
    "f_valid.close()\n",
    "f_test.close()"
   ]
  }
 ],
 "metadata": {
  "colab": {
   "collapsed_sections": [],
   "name": "featureExtraction.ipynb",
   "provenance": []
  },
  "kernelspec": {
   "display_name": "Python 3",
   "language": "python",
   "name": "python3"
  },
  "language_info": {
   "codemirror_mode": {
    "name": "ipython",
    "version": 3
   },
   "file_extension": ".py",
   "mimetype": "text/x-python",
   "name": "python",
   "nbconvert_exporter": "python",
   "pygments_lexer": "ipython3",
   "version": "3.8.5"
  }
 },
 "nbformat": 4,
 "nbformat_minor": 1
}
